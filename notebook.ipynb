{
 "cells": [
  {
   "cell_type": "markdown",
   "metadata": {},
   "source": [
    "### **1. Bibliotecas**"
   ]
  },
  {
   "cell_type": "code",
   "execution_count": 4,
   "metadata": {},
   "outputs": [],
   "source": [
    "import os\n",
    "import json\n",
    "import numpy as np\n",
    "import pandas as pd\n",
    "from scipy import stats\n",
    "from joblib import dump, load\n",
    "from openai import OpenAI, AsyncOpenAI\n",
    "client = OpenAI(api_key=os.getenv(\"OPENAI_API_KEY\"))\n",
    "import nest_asyncio\n",
    "import asyncio\n",
    "nest_asyncio.apply()\n",
    "from tqdm.notebook import tqdm\n",
    "tqdm.pandas()\n",
    "from warnings import filterwarnings\n",
    "filterwarnings('ignore')"
   ]
  },
  {
   "cell_type": "markdown",
   "metadata": {},
   "source": [
    "---\n",
    "### **2. Dataset**"
   ]
  },
  {
   "cell_type": "code",
   "execution_count": 23,
   "metadata": {},
   "outputs": [
    {
     "data": {
      "text/html": [
       "<div>\n",
       "<style scoped>\n",
       "    .dataframe tbody tr th:only-of-type {\n",
       "        vertical-align: middle;\n",
       "    }\n",
       "\n",
       "    .dataframe tbody tr th {\n",
       "        vertical-align: top;\n",
       "    }\n",
       "\n",
       "    .dataframe thead th {\n",
       "        text-align: right;\n",
       "    }\n",
       "</style>\n",
       "<table border=\"1\" class=\"dataframe\">\n",
       "  <thead>\n",
       "    <tr style=\"text-align: right;\">\n",
       "      <th></th>\n",
       "      <th>Text</th>\n",
       "      <th>Text_PT</th>\n",
       "      <th>Opinion(1/0)</th>\n",
       "      <th>Question(1/0)</th>\n",
       "      <th>Answer(1/0)</th>\n",
       "      <th>Sentiment(1-7)</th>\n",
       "      <th>Confusion(1-7)</th>\n",
       "      <th>Urgency(1-7)</th>\n",
       "      <th>CourseType</th>\n",
       "      <th>forum_post_id</th>\n",
       "      <th>course_display_name</th>\n",
       "      <th>forum_uid</th>\n",
       "      <th>created_at</th>\n",
       "      <th>post_type</th>\n",
       "      <th>anonymous</th>\n",
       "      <th>anonymous_to_peers</th>\n",
       "      <th>up_count</th>\n",
       "      <th>comment_thread_id</th>\n",
       "      <th>reads</th>\n",
       "    </tr>\n",
       "  </thead>\n",
       "  <tbody>\n",
       "    <tr>\n",
       "      <th>0</th>\n",
       "      <td>Interesting! How often we say those things to ...</td>\n",
       "      <td>Interessante! Quantas vezes dizemos essas cois...</td>\n",
       "      <td>1</td>\n",
       "      <td>0</td>\n",
       "      <td>0</td>\n",
       "      <td>6.5</td>\n",
       "      <td>2.0</td>\n",
       "      <td>1.5</td>\n",
       "      <td>Education</td>\n",
       "      <td>5225177f2c501f0a00000015</td>\n",
       "      <td>Education/EDUC115N/How_to_Learn_Math</td>\n",
       "      <td>30CADB93E6DE4711193D7BD05F2AE95C</td>\n",
       "      <td>2013-09-02 22:55:59</td>\n",
       "      <td>Comment</td>\n",
       "      <td>0.0</td>\n",
       "      <td>0.0</td>\n",
       "      <td>0.0</td>\n",
       "      <td>5221a8262cfae31200000001</td>\n",
       "      <td>41.0</td>\n",
       "    </tr>\n",
       "    <tr>\n",
       "      <th>1</th>\n",
       "      <td>What is \\Algebra as a Math Game\\\" or are you j...</td>\n",
       "      <td>O que é \\ Álgebra como um jogo de matemática \\...</td>\n",
       "      <td>0</td>\n",
       "      <td>1</td>\n",
       "      <td>0</td>\n",
       "      <td>4.0</td>\n",
       "      <td>5.0</td>\n",
       "      <td>3.5</td>\n",
       "      <td>Education</td>\n",
       "      <td>5207d0e9935dfc0e0000005e</td>\n",
       "      <td>Education/EDUC115N/How_to_Learn_Math</td>\n",
       "      <td>37D8FAEE7D0B94B6CFC57D98FD3D0BA5</td>\n",
       "      <td>2013-08-11 17:59:05</td>\n",
       "      <td>Comment</td>\n",
       "      <td>0.0</td>\n",
       "      <td>0.0</td>\n",
       "      <td>0.0</td>\n",
       "      <td>520663839df35b0a00000043</td>\n",
       "      <td>55.0</td>\n",
       "    </tr>\n",
       "    <tr>\n",
       "      <th>2</th>\n",
       "      <td>I like the idea of my kids principal who says ...</td>\n",
       "      <td>Gosto da ideia do diretor dos meus filhos que ...</td>\n",
       "      <td>1</td>\n",
       "      <td>0</td>\n",
       "      <td>0</td>\n",
       "      <td>5.5</td>\n",
       "      <td>3.0</td>\n",
       "      <td>2.5</td>\n",
       "      <td>Education</td>\n",
       "      <td>52052c82d01fec0a00000071</td>\n",
       "      <td>Education/EDUC115N/How_to_Learn_Math</td>\n",
       "      <td>CC11480215042B3EB6E5905EAB13B733</td>\n",
       "      <td>2013-08-09 17:53:06</td>\n",
       "      <td>Comment</td>\n",
       "      <td>0.0</td>\n",
       "      <td>0.0</td>\n",
       "      <td>0.0</td>\n",
       "      <td>51e59415e339d716000001a6</td>\n",
       "      <td>25.0</td>\n",
       "    </tr>\n",
       "  </tbody>\n",
       "</table>\n",
       "</div>"
      ],
      "text/plain": [
       "                                                Text  \\\n",
       "0  Interesting! How often we say those things to ...   \n",
       "1  What is \\Algebra as a Math Game\\\" or are you j...   \n",
       "2  I like the idea of my kids principal who says ...   \n",
       "\n",
       "                                             Text_PT  Opinion(1/0)  \\\n",
       "0  Interessante! Quantas vezes dizemos essas cois...             1   \n",
       "1  O que é \\ Álgebra como um jogo de matemática \\...             0   \n",
       "2  Gosto da ideia do diretor dos meus filhos que ...             1   \n",
       "\n",
       "   Question(1/0)  Answer(1/0)  Sentiment(1-7)  Confusion(1-7)  Urgency(1-7)  \\\n",
       "0              0            0             6.5             2.0           1.5   \n",
       "1              1            0             4.0             5.0           3.5   \n",
       "2              0            0             5.5             3.0           2.5   \n",
       "\n",
       "  CourseType             forum_post_id                   course_display_name  \\\n",
       "0  Education  5225177f2c501f0a00000015  Education/EDUC115N/How_to_Learn_Math   \n",
       "1  Education  5207d0e9935dfc0e0000005e  Education/EDUC115N/How_to_Learn_Math   \n",
       "2  Education  52052c82d01fec0a00000071  Education/EDUC115N/How_to_Learn_Math   \n",
       "\n",
       "                          forum_uid          created_at post_type  anonymous  \\\n",
       "0  30CADB93E6DE4711193D7BD05F2AE95C 2013-09-02 22:55:59   Comment        0.0   \n",
       "1  37D8FAEE7D0B94B6CFC57D98FD3D0BA5 2013-08-11 17:59:05   Comment        0.0   \n",
       "2  CC11480215042B3EB6E5905EAB13B733 2013-08-09 17:53:06   Comment        0.0   \n",
       "\n",
       "   anonymous_to_peers  up_count         comment_thread_id  reads  \n",
       "0                 0.0       0.0  5221a8262cfae31200000001   41.0  \n",
       "1                 0.0       0.0  520663839df35b0a00000043   55.0  \n",
       "2                 0.0       0.0  51e59415e339d716000001a6   25.0  "
      ]
     },
     "execution_count": 23,
     "metadata": {},
     "output_type": "execute_result"
    }
   ],
   "source": [
    "url = os.getenv(\"URL_DATASET\")\n",
    "df = pd.read_excel(url)\n",
    "df.head(3)"
   ]
  },
  {
   "cell_type": "code",
   "execution_count": 24,
   "metadata": {},
   "outputs": [
    {
     "data": {
      "text/html": [
       "<div>\n",
       "<style scoped>\n",
       "    .dataframe tbody tr th:only-of-type {\n",
       "        vertical-align: middle;\n",
       "    }\n",
       "\n",
       "    .dataframe tbody tr th {\n",
       "        vertical-align: top;\n",
       "    }\n",
       "\n",
       "    .dataframe thead th {\n",
       "        text-align: right;\n",
       "    }\n",
       "</style>\n",
       "<table border=\"1\" class=\"dataframe\">\n",
       "  <thead>\n",
       "    <tr style=\"text-align: right;\">\n",
       "      <th></th>\n",
       "      <th>text</th>\n",
       "      <th>text_pt</th>\n",
       "      <th>opinion(1/0)</th>\n",
       "      <th>question(1/0)</th>\n",
       "      <th>answer(1/0)</th>\n",
       "      <th>sentiment(1/0)</th>\n",
       "      <th>sentiment(1-7)</th>\n",
       "      <th>confusion(1/0)</th>\n",
       "      <th>confusion(1-7)</th>\n",
       "      <th>urgency(1/0)</th>\n",
       "      <th>...</th>\n",
       "      <th>forum_post_id</th>\n",
       "      <th>course_display_name</th>\n",
       "      <th>forum_uid</th>\n",
       "      <th>created_at</th>\n",
       "      <th>post_type</th>\n",
       "      <th>anonymous</th>\n",
       "      <th>anonymous_to_peers</th>\n",
       "      <th>up_count</th>\n",
       "      <th>comment_thread_id</th>\n",
       "      <th>reads</th>\n",
       "    </tr>\n",
       "  </thead>\n",
       "  <tbody>\n",
       "    <tr>\n",
       "      <th>0</th>\n",
       "      <td>Interesting! How often we say those things to ...</td>\n",
       "      <td>Interessante! Quantas vezes dizemos essas cois...</td>\n",
       "      <td>1</td>\n",
       "      <td>0</td>\n",
       "      <td>0</td>\n",
       "      <td>1</td>\n",
       "      <td>6.5</td>\n",
       "      <td>0</td>\n",
       "      <td>2.0</td>\n",
       "      <td>0</td>\n",
       "      <td>...</td>\n",
       "      <td>5225177f2c501f0a00000015</td>\n",
       "      <td>Education/EDUC115N/How_to_Learn_Math</td>\n",
       "      <td>30CADB93E6DE4711193D7BD05F2AE95C</td>\n",
       "      <td>2013-09-02 22:55:59</td>\n",
       "      <td>Comment</td>\n",
       "      <td>0.0</td>\n",
       "      <td>0.0</td>\n",
       "      <td>0.0</td>\n",
       "      <td>5221a8262cfae31200000001</td>\n",
       "      <td>41.0</td>\n",
       "    </tr>\n",
       "    <tr>\n",
       "      <th>1</th>\n",
       "      <td>What is \\Algebra as a Math Game\\\" or are you j...</td>\n",
       "      <td>O que é \\ Álgebra como um jogo de matemática \\...</td>\n",
       "      <td>0</td>\n",
       "      <td>1</td>\n",
       "      <td>0</td>\n",
       "      <td>1</td>\n",
       "      <td>4.0</td>\n",
       "      <td>1</td>\n",
       "      <td>5.0</td>\n",
       "      <td>0</td>\n",
       "      <td>...</td>\n",
       "      <td>5207d0e9935dfc0e0000005e</td>\n",
       "      <td>Education/EDUC115N/How_to_Learn_Math</td>\n",
       "      <td>37D8FAEE7D0B94B6CFC57D98FD3D0BA5</td>\n",
       "      <td>2013-08-11 17:59:05</td>\n",
       "      <td>Comment</td>\n",
       "      <td>0.0</td>\n",
       "      <td>0.0</td>\n",
       "      <td>0.0</td>\n",
       "      <td>520663839df35b0a00000043</td>\n",
       "      <td>55.0</td>\n",
       "    </tr>\n",
       "  </tbody>\n",
       "</table>\n",
       "<p>2 rows × 22 columns</p>\n",
       "</div>"
      ],
      "text/plain": [
       "                                                text  \\\n",
       "0  Interesting! How often we say those things to ...   \n",
       "1  What is \\Algebra as a Math Game\\\" or are you j...   \n",
       "\n",
       "                                             text_pt  opinion(1/0)  \\\n",
       "0  Interessante! Quantas vezes dizemos essas cois...             1   \n",
       "1  O que é \\ Álgebra como um jogo de matemática \\...             0   \n",
       "\n",
       "   question(1/0)  answer(1/0)  sentiment(1/0)  sentiment(1-7)  confusion(1/0)  \\\n",
       "0              0            0               1             6.5               0   \n",
       "1              1            0               1             4.0               1   \n",
       "\n",
       "   confusion(1-7)  urgency(1/0)  ...             forum_post_id  \\\n",
       "0             2.0             0  ...  5225177f2c501f0a00000015   \n",
       "1             5.0             0  ...  5207d0e9935dfc0e0000005e   \n",
       "\n",
       "                    course_display_name                         forum_uid  \\\n",
       "0  Education/EDUC115N/How_to_Learn_Math  30CADB93E6DE4711193D7BD05F2AE95C   \n",
       "1  Education/EDUC115N/How_to_Learn_Math  37D8FAEE7D0B94B6CFC57D98FD3D0BA5   \n",
       "\n",
       "           created_at post_type anonymous anonymous_to_peers  up_count  \\\n",
       "0 2013-09-02 22:55:59   Comment       0.0                0.0       0.0   \n",
       "1 2013-08-11 17:59:05   Comment       0.0                0.0       0.0   \n",
       "\n",
       "          comment_thread_id  reads  \n",
       "0  5221a8262cfae31200000001   41.0  \n",
       "1  520663839df35b0a00000043   55.0  \n",
       "\n",
       "[2 rows x 22 columns]"
      ]
     },
     "execution_count": 24,
     "metadata": {},
     "output_type": "execute_result"
    }
   ],
   "source": [
    "# nome das colunas em minusculo\n",
    "df.columns = df.columns.str.lower()\n",
    "\n",
    "# colunas binárias\n",
    "df.insert(5, column='sentiment(1/0)', value=df[\"sentiment(1-7)\"].apply(lambda x: 0 if x < 4 else 1))\n",
    "df.insert(7, column='confusion(1/0)', value=df[\"confusion(1-7)\"].apply(lambda x: 0 if x < 4 else 1))\n",
    "df.insert(9, column='urgency(1/0)', value=df[\"urgency(1-7)\"].apply(lambda x: 0 if x < 4 else 1))\n",
    "df.head(2)"
   ]
  },
  {
   "cell_type": "code",
   "execution_count": 25,
   "metadata": {},
   "outputs": [
    {
     "data": {
      "text/plain": [
       "['data/df_stanford.z']"
      ]
     },
     "execution_count": 25,
     "metadata": {},
     "output_type": "execute_result"
    }
   ],
   "source": [
    "dump(df, \"data/df_stanford.z\")"
   ]
  },
  {
   "cell_type": "markdown",
   "metadata": {},
   "source": [
    "---\n",
    "### **3. Dataframe salvo**"
   ]
  },
  {
   "cell_type": "code",
   "execution_count": 2,
   "metadata": {},
   "outputs": [
    {
     "data": {
      "text/html": [
       "<div>\n",
       "<style scoped>\n",
       "    .dataframe tbody tr th:only-of-type {\n",
       "        vertical-align: middle;\n",
       "    }\n",
       "\n",
       "    .dataframe tbody tr th {\n",
       "        vertical-align: top;\n",
       "    }\n",
       "\n",
       "    .dataframe thead th {\n",
       "        text-align: right;\n",
       "    }\n",
       "</style>\n",
       "<table border=\"1\" class=\"dataframe\">\n",
       "  <thead>\n",
       "    <tr style=\"text-align: right;\">\n",
       "      <th></th>\n",
       "      <th>text</th>\n",
       "      <th>text_pt</th>\n",
       "      <th>opinion(1/0)</th>\n",
       "      <th>question(1/0)</th>\n",
       "      <th>answer(1/0)</th>\n",
       "      <th>sentiment(1/0)</th>\n",
       "      <th>sentiment(1/0)GPT</th>\n",
       "      <th>sentiment(1-7)</th>\n",
       "      <th>sentiment(1-7)GPT</th>\n",
       "      <th>confusion(1/0)</th>\n",
       "      <th>...</th>\n",
       "      <th>forum_post_id</th>\n",
       "      <th>course_display_name</th>\n",
       "      <th>forum_uid</th>\n",
       "      <th>created_at</th>\n",
       "      <th>post_type</th>\n",
       "      <th>anonymous</th>\n",
       "      <th>anonymous_to_peers</th>\n",
       "      <th>up_count</th>\n",
       "      <th>comment_thread_id</th>\n",
       "      <th>reads</th>\n",
       "    </tr>\n",
       "  </thead>\n",
       "  <tbody>\n",
       "    <tr>\n",
       "      <th>0</th>\n",
       "      <td>Interesting! How often we say those things to ...</td>\n",
       "      <td>Interessante! Quantas vezes dizemos essas cois...</td>\n",
       "      <td>1</td>\n",
       "      <td>0</td>\n",
       "      <td>0</td>\n",
       "      <td>1</td>\n",
       "      <td>1</td>\n",
       "      <td>6.5</td>\n",
       "      <td>6.5</td>\n",
       "      <td>0</td>\n",
       "      <td>...</td>\n",
       "      <td>5225177f2c501f0a00000015</td>\n",
       "      <td>Education/EDUC115N/How_to_Learn_Math</td>\n",
       "      <td>30CADB93E6DE4711193D7BD05F2AE95C</td>\n",
       "      <td>2013-09-02 22:55:59</td>\n",
       "      <td>Comment</td>\n",
       "      <td>0.0</td>\n",
       "      <td>0.0</td>\n",
       "      <td>0.0</td>\n",
       "      <td>5221a8262cfae31200000001</td>\n",
       "      <td>41.0</td>\n",
       "    </tr>\n",
       "    <tr>\n",
       "      <th>1</th>\n",
       "      <td>What is \\Algebra as a Math Game\\\" or are you j...</td>\n",
       "      <td>O que é \\ Álgebra como um jogo de matemática \\...</td>\n",
       "      <td>0</td>\n",
       "      <td>1</td>\n",
       "      <td>0</td>\n",
       "      <td>1</td>\n",
       "      <td>0</td>\n",
       "      <td>4.0</td>\n",
       "      <td>3.5</td>\n",
       "      <td>1</td>\n",
       "      <td>...</td>\n",
       "      <td>5207d0e9935dfc0e0000005e</td>\n",
       "      <td>Education/EDUC115N/How_to_Learn_Math</td>\n",
       "      <td>37D8FAEE7D0B94B6CFC57D98FD3D0BA5</td>\n",
       "      <td>2013-08-11 17:59:05</td>\n",
       "      <td>Comment</td>\n",
       "      <td>0.0</td>\n",
       "      <td>0.0</td>\n",
       "      <td>0.0</td>\n",
       "      <td>520663839df35b0a00000043</td>\n",
       "      <td>55.0</td>\n",
       "    </tr>\n",
       "  </tbody>\n",
       "</table>\n",
       "<p>2 rows × 24 columns</p>\n",
       "</div>"
      ],
      "text/plain": [
       "                                                text  \\\n",
       "0  Interesting! How often we say those things to ...   \n",
       "1  What is \\Algebra as a Math Game\\\" or are you j...   \n",
       "\n",
       "                                             text_pt  opinion(1/0)  \\\n",
       "0  Interessante! Quantas vezes dizemos essas cois...             1   \n",
       "1  O que é \\ Álgebra como um jogo de matemática \\...             0   \n",
       "\n",
       "   question(1/0)  answer(1/0)  sentiment(1/0)  sentiment(1/0)GPT  \\\n",
       "0              0            0               1                  1   \n",
       "1              1            0               1                  0   \n",
       "\n",
       "   sentiment(1-7)  sentiment(1-7)GPT  confusion(1/0)  ...  \\\n",
       "0             6.5                6.5               0  ...   \n",
       "1             4.0                3.5               1  ...   \n",
       "\n",
       "              forum_post_id                   course_display_name  \\\n",
       "0  5225177f2c501f0a00000015  Education/EDUC115N/How_to_Learn_Math   \n",
       "1  5207d0e9935dfc0e0000005e  Education/EDUC115N/How_to_Learn_Math   \n",
       "\n",
       "                          forum_uid          created_at post_type anonymous  \\\n",
       "0  30CADB93E6DE4711193D7BD05F2AE95C 2013-09-02 22:55:59   Comment       0.0   \n",
       "1  37D8FAEE7D0B94B6CFC57D98FD3D0BA5 2013-08-11 17:59:05   Comment       0.0   \n",
       "\n",
       "  anonymous_to_peers up_count         comment_thread_id  reads  \n",
       "0                0.0      0.0  5221a8262cfae31200000001   41.0  \n",
       "1                0.0      0.0  520663839df35b0a00000043   55.0  \n",
       "\n",
       "[2 rows x 24 columns]"
      ]
     },
     "execution_count": 2,
     "metadata": {},
     "output_type": "execute_result"
    }
   ],
   "source": [
    "df = load('data/df_stanford.z')\n",
    "df.head(2)"
   ]
  },
  {
   "cell_type": "markdown",
   "metadata": {},
   "source": [
    "---\n",
    "### **4. Rótulos de Sentimentos**"
   ]
  },
  {
   "cell_type": "code",
   "execution_count": 28,
   "metadata": {},
   "outputs": [
    {
     "data": {
      "text/plain": [
       "array([1. , 1.5, 2. , 2.5, 3. , 3.5, 4. , 4.5, 5. , 5.5, 6. , 6.5, 7. ])"
      ]
     },
     "execution_count": 28,
     "metadata": {},
     "output_type": "execute_result"
    }
   ],
   "source": [
    "np.sort(df['sentiment(1-7)'].unique())"
   ]
  },
  {
   "cell_type": "markdown",
   "metadata": {},
   "source": [
    "---\n",
    "#### **4.1 Rotulando um post com GPT**"
   ]
  },
  {
   "cell_type": "code",
   "execution_count": null,
   "metadata": {},
   "outputs": [],
   "source": [
    "def gpt_label(text):\n",
    "    try:\n",
    "        response = client.chat.completions.create(\n",
    "            # model=\"gpt-3.5-turbo\",\n",
    "            # model=\"gpt-4o\",\n",
    "            model=\"gpt-4o-mini\",\n",
    "            max_tokens=3,\n",
    "            store=True,\n",
    "            messages=[\n",
    "                {\n",
    "                    \"role\": \"user\",\n",
    "                    \"content\": f\"You are a data scientist who labels texts regarding sentiment with one of the options [1. , 1.5, 2. , 2.5, 3. , 3.5, 4. , 4.5, 5. , 5.5, 6. , 6.5, 7. ], with 1 being very negative sentiment and up to 7 being very positive sentiment. Answer only one number and label the following text: {text}\",\n",
    "                },\n",
    "            ],\n",
    "        )\n",
    "        return response.choices[0].message\n",
    "    except Exception as e:\n",
    "        print(f'Erro ao rotular: {str(e)}')\n",
    "        return 0"
   ]
  },
  {
   "cell_type": "code",
   "execution_count": 32,
   "metadata": {},
   "outputs": [
    {
     "name": "stdout",
     "output_type": "stream",
     "text": [
      "Rótulo escolhido pelo GPT: 6.5\n",
      "--------------------------------------------------\n",
      "Post:\n",
      "Interesting! How often we say those things to others without really understanding what we are saying. That must have been a powerful experience! Excellent!\n",
      "Rótulo real:  6.5\n"
     ]
    }
   ],
   "source": [
    "indice_escolhido = 0\n",
    "rotulo = float(gpt_label(df[\"text\"][indice_escolhido]).content)\n",
    "print(f'Rótulo escolhido pelo GPT: {rotulo}')\n",
    "print('-'*50)\n",
    "print('Post:')\n",
    "print(df[[\"text\", \"sentiment(1-7)\"]].iloc[indice_escolhido]['text'])\n",
    "print('Rótulo real: ', df[[\"text\", \"sentiment(1-7)\"]].iloc[indice_escolhido][\"sentiment(1-7)\"])"
   ]
  },
  {
   "cell_type": "code",
   "execution_count": 33,
   "metadata": {},
   "outputs": [
    {
     "data": {
      "text/html": [
       "<div>\n",
       "<style scoped>\n",
       "    .dataframe tbody tr th:only-of-type {\n",
       "        vertical-align: middle;\n",
       "    }\n",
       "\n",
       "    .dataframe tbody tr th {\n",
       "        vertical-align: top;\n",
       "    }\n",
       "\n",
       "    .dataframe thead th {\n",
       "        text-align: right;\n",
       "    }\n",
       "</style>\n",
       "<table border=\"1\" class=\"dataframe\">\n",
       "  <thead>\n",
       "    <tr style=\"text-align: right;\">\n",
       "      <th></th>\n",
       "      <th>text</th>\n",
       "      <th>sentiment(1-7)</th>\n",
       "    </tr>\n",
       "  </thead>\n",
       "  <tbody>\n",
       "    <tr>\n",
       "      <th>0</th>\n",
       "      <td>Interesting! How often we say those things to ...</td>\n",
       "      <td>6.5</td>\n",
       "    </tr>\n",
       "    <tr>\n",
       "      <th>1</th>\n",
       "      <td>What is \\Algebra as a Math Game\\\" or are you j...</td>\n",
       "      <td>4.0</td>\n",
       "    </tr>\n",
       "    <tr>\n",
       "      <th>2</th>\n",
       "      <td>I like the idea of my kids principal who says ...</td>\n",
       "      <td>5.5</td>\n",
       "    </tr>\n",
       "    <tr>\n",
       "      <th>3</th>\n",
       "      <td>From their responses, it seems the students re...</td>\n",
       "      <td>6.0</td>\n",
       "    </tr>\n",
       "    <tr>\n",
       "      <th>4</th>\n",
       "      <td>The boys loved math, because \\there is freedom...</td>\n",
       "      <td>7.0</td>\n",
       "    </tr>\n",
       "    <tr>\n",
       "      <th>...</th>\n",
       "      <td>...</td>\n",
       "      <td>...</td>\n",
       "    </tr>\n",
       "    <tr>\n",
       "      <th>29599</th>\n",
       "      <td>The p value tells us the probability of observ...</td>\n",
       "      <td>4.0</td>\n",
       "    </tr>\n",
       "    <tr>\n",
       "      <th>29600</th>\n",
       "      <td>given the null hypothesis is considered true</td>\n",
       "      <td>4.0</td>\n",
       "    </tr>\n",
       "    <tr>\n",
       "      <th>29601</th>\n",
       "      <td>&gt; Hello Josh,_x0007__x0007_Is this hypothesis ...</td>\n",
       "      <td>4.0</td>\n",
       "    </tr>\n",
       "    <tr>\n",
       "      <th>29602</th>\n",
       "      <td>Hi Josh,_x0007__x0007__x0007__x0007_Looking at...</td>\n",
       "      <td>3.5</td>\n",
       "    </tr>\n",
       "    <tr>\n",
       "      <th>29603</th>\n",
       "      <td>thanks Dr.Josh</td>\n",
       "      <td>4.0</td>\n",
       "    </tr>\n",
       "  </tbody>\n",
       "</table>\n",
       "<p>29604 rows × 2 columns</p>\n",
       "</div>"
      ],
      "text/plain": [
       "                                                    text  sentiment(1-7)\n",
       "0      Interesting! How often we say those things to ...             6.5\n",
       "1      What is \\Algebra as a Math Game\\\" or are you j...             4.0\n",
       "2      I like the idea of my kids principal who says ...             5.5\n",
       "3      From their responses, it seems the students re...             6.0\n",
       "4      The boys loved math, because \\there is freedom...             7.0\n",
       "...                                                  ...             ...\n",
       "29599  The p value tells us the probability of observ...             4.0\n",
       "29600       given the null hypothesis is considered true             4.0\n",
       "29601  > Hello Josh,_x0007__x0007_Is this hypothesis ...             4.0\n",
       "29602  Hi Josh,_x0007__x0007__x0007__x0007_Looking at...             3.5\n",
       "29603                                     thanks Dr.Josh             4.0\n",
       "\n",
       "[29604 rows x 2 columns]"
      ]
     },
     "execution_count": 33,
     "metadata": {},
     "output_type": "execute_result"
    }
   ],
   "source": [
    "df[[\"text\", \"sentiment(1-7)\"]]"
   ]
  },
  {
   "cell_type": "markdown",
   "metadata": {},
   "source": [
    "---\n",
    "#### **4.2 Rotulando dataset completo com GPT**"
   ]
  },
  {
   "cell_type": "code",
   "execution_count": null,
   "metadata": {},
   "outputs": [],
   "source": [
    "client_async = AsyncOpenAI(api_key=os.getenv(\"OPENAI_API_KEY\"))\n",
    "\n",
    "async def gpt_label_async(text):\n",
    "    try:\n",
    "        response = await client_async.chat.completions.create(\n",
    "            # model=\"gpt-3.5-turbo\",\n",
    "            # model=\"gpt-4o\",\n",
    "            model=\"gpt-4o-mini\",\n",
    "            max_tokens=3,\n",
    "            store=True,\n",
    "            messages=[\n",
    "                {\n",
    "                    \"role\": \"user\",\n",
    "                    \"content\": f\"You are a data scientist who labels texts regarding sentiment with one of the options [1. , 1.5, 2. , 2.5, 3. , 3.5, 4. , 4.5, 5. , 5.5, 6. , 6.5, 7. ], with 1 being very negative sentiment and up to 7 being very positive sentiment. Answer only one number and label the following text: {text}\",\n",
    "                },\n",
    "            ],\n",
    "        )\n",
    "        return response.choices[0].message\n",
    "    except Exception as e:\n",
    "        print(f'Erro ao rotular: {str(e)}')\n",
    "        return 0"
   ]
  },
  {
   "cell_type": "code",
   "execution_count": null,
   "metadata": {},
   "outputs": [],
   "source": [
    "intervalo = range(0, 10)\n",
    "rotulos = df[\"text\"][intervalo].progress_apply(lambda x: asyncio.run(gpt_label_async(x)))\n",
    "rotulos = rotulos.map(lambda x: float(x.content))"
   ]
  },
  {
   "cell_type": "code",
   "execution_count": null,
   "metadata": {},
   "outputs": [
    {
     "name": "stdout",
     "output_type": "stream",
     "text": [
      "Estatística t: 0.30738931174713624\n",
      "Valor p: 0.7620751630156286\n",
      "Não há uma diferença significativa entre os rótulos reais e preditos.\n"
     ]
    }
   ],
   "source": [
    "# Realizar o teste t de Student\n",
    "t_stat, p_value = stats.ttest_ind(df[\"sentiment(1-7)\"][intervalo], rotulos)\n",
    "\n",
    "print(f\"Estatística t: {t_stat}\")\n",
    "print(f\"Valor p: {p_value}\")\n",
    "\n",
    "# Verificar a significância\n",
    "print(f\"{'Há' if p_value < 0.05 else 'Não há'} uma diferença significativa entre os rótulos reais e preditos.\")"
   ]
  },
  {
   "cell_type": "markdown",
   "metadata": {},
   "source": [
    "#### **4.3 Rotulando dataset completo com Batch API GPT**"
   ]
  },
  {
   "cell_type": "code",
   "execution_count": null,
   "metadata": {},
   "outputs": [
    {
     "data": {
      "text/plain": [
       "{'id': 'batch_67f3264d34388190ab673981627e0dd4',\n",
       " 'completion_window': '24h',\n",
       " 'created_at': 1743988301,\n",
       " 'endpoint': '/v1/chat/completions',\n",
       " 'input_file_id': 'file-WcCu1nXH188WeTka4koWzf',\n",
       " 'object': 'batch',\n",
       " 'status': 'validating',\n",
       " 'cancelled_at': None,\n",
       " 'cancelling_at': None,\n",
       " 'completed_at': None,\n",
       " 'error_file_id': None,\n",
       " 'errors': None,\n",
       " 'expired_at': None,\n",
       " 'expires_at': 1744074701,\n",
       " 'failed_at': None,\n",
       " 'finalizing_at': None,\n",
       " 'in_progress_at': None,\n",
       " 'metadata': {'description': 'gpt label dataset data/prompts5.jsonl'},\n",
       " 'output_file_id': None,\n",
       " 'request_counts': {'completed': 0, 'failed': 0, 'total': 0}}"
      ]
     },
     "execution_count": 71,
     "metadata": {},
     "output_type": "execute_result"
    }
   ],
   "source": [
    "# criando lista para arquivo jsonl com os prompts para cada post\n",
    "prompts = []\n",
    "def create_jsonl(idx, text):\n",
    "    prompts.append(\n",
    "        {\n",
    "            \"custom_id\": f\"request-{idx}\",\n",
    "            \"method\": \"POST\",\n",
    "            \"url\": \"/v1/chat/completions\",\n",
    "            \"body\": {\n",
    "                \"model\": \"gpt-4o-mini\",\n",
    "                \"messages\": [\n",
    "                    {\n",
    "                        \"role\": \"user\",\n",
    "                        \"content\": f\"You are a data scientist who labels texts regarding sentiment with one of the options [1. , 1.5, 2. , 2.5, 3. , 3.5, 4. , 4.5, 5. , 5.5, 6. , 6.5, 7. ], with 1 being very negative sentiment and up to 7 being very positive sentiment. Answer only one number and label the following text: {text}\",\n",
    "                    },\n",
    "                ],\n",
    "                \"max_tokens\": 3,\n",
    "            },\n",
    "        }\n",
    "    )\n",
    "\n",
    "# intervalo, arquivo, resultado = range(0, 10000), \"data/sentiment/prompts1.jsonl\", \"data/sentiment/resultados1.jsonl\"\n",
    "# intervalo, arquivo, resultado = range(10000, 15000), \"data/sentiment/prompts2.jsonl\", \"data/sentiment/resultados2.jsonl\"\n",
    "# intervalo, arquivo, resultado = range(15000, 20000), \"data/sentiment/prompts3.jsonl\", \"data/sentiment/resultados3.jsonl\"\n",
    "# intervalo, arquivo, resultado = range(20000, 25000), \"data/sentiment/prompts4.jsonl\", \"data/sentiment/resultados4.jsonl\"\n",
    "intervalo, arquivo, resultado = range(25000, 29604), \"data/sentiment/prompts5.jsonl\", \"data/sentiment/resultados5.jsonl\"\n",
    "\n",
    "for idx, text in zip(intervalo,df['text'][intervalo]):\n",
    "    create_jsonl(idx, text)\n",
    "\n",
    "# salvando arquivo jsonl com os prompts\n",
    "with open(arquivo, \"w\", encoding=\"utf-8\") as file:\n",
    "    for entry in prompts:\n",
    "        file.write(json.dumps(entry) + \"\\n\")\n",
    "\n",
    "# enviando arquivo jsonl para API\n",
    "batch_input_file = client.files.create(file=open(arquivo, \"rb\"), purpose=\"batch\")\n",
    "\n",
    "# criando o lote do arquivo jsonl\n",
    "batch = client.batches.create(\n",
    "    input_file_id=batch_input_file.id,\n",
    "    endpoint=\"/v1/chat/completions\",\n",
    "    completion_window=\"24h\",\n",
    "    metadata={\"description\": f\"gpt label dataset {arquivo}\"},\n",
    ")\n",
    "\n",
    "batch.to_dict()"
   ]
  },
  {
   "cell_type": "code",
   "execution_count": 176,
   "metadata": {},
   "outputs": [
    {
     "data": {
      "text/plain": [
       "{'id': 'batch_67f3264d34388190ab673981627e0dd4',\n",
       " 'completion_window': '24h',\n",
       " 'created_at': 1743988301,\n",
       " 'endpoint': '/v1/chat/completions',\n",
       " 'input_file_id': 'file-WcCu1nXH188WeTka4koWzf',\n",
       " 'object': 'batch',\n",
       " 'status': 'completed',\n",
       " 'cancelled_at': None,\n",
       " 'cancelling_at': None,\n",
       " 'completed_at': 1743989458,\n",
       " 'error_file_id': None,\n",
       " 'errors': None,\n",
       " 'expired_at': None,\n",
       " 'expires_at': 1744074701,\n",
       " 'failed_at': None,\n",
       " 'finalizing_at': 1743989172,\n",
       " 'in_progress_at': 1743988303,\n",
       " 'metadata': {'description': 'gpt label dataset data/prompts5.jsonl'},\n",
       " 'output_file_id': 'file-9nPLL1DtMhHZAaDGDLA2uC',\n",
       " 'request_counts': {'completed': 4604, 'failed': 0, 'total': 4604}}"
      ]
     },
     "execution_count": 176,
     "metadata": {},
     "output_type": "execute_result"
    }
   ],
   "source": [
    "# listar último lote\n",
    "client.batches.list(limit=1).to_dict()['data'][0]"
   ]
  },
  {
   "cell_type": "code",
   "execution_count": 82,
   "metadata": {},
   "outputs": [
    {
     "data": {
      "text/plain": [
       "{'id': 'batch_67f3264d34388190ab673981627e0dd4',\n",
       " 'completion_window': '24h',\n",
       " 'created_at': 1743988301,\n",
       " 'endpoint': '/v1/chat/completions',\n",
       " 'input_file_id': 'file-WcCu1nXH188WeTka4koWzf',\n",
       " 'object': 'batch',\n",
       " 'status': 'completed',\n",
       " 'cancelled_at': None,\n",
       " 'cancelling_at': None,\n",
       " 'completed_at': 1743989458,\n",
       " 'error_file_id': None,\n",
       " 'errors': None,\n",
       " 'expired_at': None,\n",
       " 'expires_at': 1744074701,\n",
       " 'failed_at': None,\n",
       " 'finalizing_at': 1743989172,\n",
       " 'in_progress_at': 1743988303,\n",
       " 'metadata': {'description': 'gpt label dataset data/prompts5.jsonl'},\n",
       " 'output_file_id': 'file-9nPLL1DtMhHZAaDGDLA2uC',\n",
       " 'request_counts': {'completed': 4604, 'failed': 0, 'total': 4604}}"
      ]
     },
     "execution_count": 82,
     "metadata": {},
     "output_type": "execute_result"
    }
   ],
   "source": [
    "# verificar situação do lote - outra opção se souber o id do lote\n",
    "client.batches.retrieve(batch.to_dict()[\"id\"]).to_dict()"
   ]
  },
  {
   "cell_type": "code",
   "execution_count": null,
   "metadata": {},
   "outputs": [],
   "source": [
    "# pegar resultado do lote\n",
    "output_file_id = client.batches.retrieve(batch.to_dict()[\"id\"]).to_dict()[\"output_file_id\"]\n",
    "\n",
    "file_response = client.files.content(output_file_id)\n",
    "file_response.write_to_file(resultado)"
   ]
  },
  {
   "cell_type": "markdown",
   "metadata": {},
   "source": [
    "#### **4.4 Tratamento dos resultados**"
   ]
  },
  {
   "cell_type": "code",
   "execution_count": null,
   "metadata": {},
   "outputs": [
    {
     "data": {
      "text/plain": [
       "Index(['text', 'text_pt', 'opinion(1/0)', 'question(1/0)', 'answer(1/0)',\n",
       "       'sentiment(1/0)', 'sentiment(1/0)GPT', 'sentiment(1-7)',\n",
       "       'sentiment(1-7)GPT', 'confusion(1/0)', 'confusion(1-7)', 'urgency(1/0)',\n",
       "       'urgency(1-7)', 'coursetype', 'forum_post_id', 'course_display_name',\n",
       "       'forum_uid', 'created_at', 'post_type', 'anonymous',\n",
       "       'anonymous_to_peers', 'up_count', 'comment_thread_id', 'reads'],\n",
       "      dtype='object')"
      ]
     },
     "execution_count": 51,
     "metadata": {},
     "output_type": "execute_result"
    }
   ],
   "source": [
    "def get_labels(caminho_arquivo):        \n",
    "    dados = []\n",
    "    with open(caminho_arquivo, \"r\", encoding=\"utf-8\") as file:\n",
    "        for linha in file:\n",
    "            dados.append(json.loads(linha))\n",
    "\n",
    "    rotulos = []\n",
    "    for i in range(len(dados)):\n",
    "        try:\n",
    "            rotulos.append(float(dados[i][\"response\"][\"body\"][\"choices\"][0][\"message\"][\"content\"]))           \n",
    "        except ValueError:\n",
    "            rotulos.append(4.0)\n",
    "\n",
    "    return rotulos\n",
    "\n",
    "r1 = get_labels(\"data/sentiment/resultados1.jsonl\")\n",
    "r2 = get_labels(\"data/sentiment/resultados2.jsonl\")\n",
    "r3 = get_labels(\"data/sentiment/resultados3.jsonl\")\n",
    "r4 = get_labels(\"data/sentiment/resultados4.jsonl\")\n",
    "r5 = get_labels(\"data/sentiment/resultados5.jsonl\")\n",
    "\n",
    "labels = pd.Series(r1 + r2 + r3 + r4 + r5).apply(lambda x: 0 if x < 4 else 1)\n",
    "df.insert(6, column=\"sentiment(1/0)GPT\", value=labels)\n",
    "\n",
    "labels = pd.Series(r1 + r2 + r3 + r4 + r5)\n",
    "df.insert(8, column=\"sentiment(1-7)GPT\", value=labels)\n",
    "df.columns"
   ]
  },
  {
   "cell_type": "code",
   "execution_count": 50,
   "metadata": {},
   "outputs": [
    {
     "name": "stdout",
     "output_type": "stream",
     "text": [
      "              precision    recall  f1-score   support\n",
      "\n",
      "           0       0.29      0.85      0.44      4387\n",
      "           1       0.96      0.65      0.77     25217\n",
      "\n",
      "    accuracy                           0.68     29604\n",
      "   macro avg       0.63      0.75      0.61     29604\n",
      "weighted avg       0.86      0.68      0.72     29604\n",
      "\n"
     ]
    },
    {
     "data": {
      "image/png": "[encoded data removed]",
      "text/plain": [
       "<Figure size 640x480 with 2 Axes>"
      ]
     },
     "metadata": {},
     "output_type": "display_data"
    }
   ],
   "source": [
    "# calcular metricas dos rotulos\n",
    "from sklearn.metrics import classification_report, confusion_matrix, ConfusionMatrixDisplay\n",
    "cf = confusion_matrix(df[\"sentiment(1/0)\"], df[\"sentiment(1/0)GPT\"])\n",
    "ConfusionMatrixDisplay(confusion_matrix=cf, display_labels=[\"Negativo\", \"Positivo\"]).plot(cmap=\"Blues\")\n",
    "print(classification_report(df[\"sentiment(1/0)\"], df[\"sentiment(1/0)GPT\"]))"
   ]
  },
  {
   "cell_type": "markdown",
   "metadata": {},
   "source": [
    "### **5. Rótulos de Confusão**"
   ]
  },
  {
   "cell_type": "code",
   "execution_count": 54,
   "metadata": {},
   "outputs": [
    {
     "data": {
      "text/plain": [
       "array([1. , 1.5, 2. , 2.5, 3. , 3.5, 4. , 4.5, 5. , 5.5, 6. , 6.5, 7. ])"
      ]
     },
     "execution_count": 54,
     "metadata": {},
     "output_type": "execute_result"
    }
   ],
   "source": [
    "np.sort(df[\"confusion(1-7)\"].unique())"
   ]
  },
  {
   "cell_type": "markdown",
   "metadata": {},
   "source": [
    "#### **5.1 Rotulando dataset completo com Batch API GPT**"
   ]
  },
  {
   "cell_type": "code",
   "execution_count": null,
   "metadata": {},
   "outputs": [
    {
     "data": {
      "text/plain": [
       "{'id': 'batch_680a45a227c481908fd31ff35475501c',\n",
       " 'completion_window': '24h',\n",
       " 'created_at': 1745503650,\n",
       " 'endpoint': '/v1/chat/completions',\n",
       " 'input_file_id': 'file-2jfX29qoAC87U4g5rMX1hD',\n",
       " 'object': 'batch',\n",
       " 'status': 'validating',\n",
       " 'cancelled_at': None,\n",
       " 'cancelling_at': None,\n",
       " 'completed_at': None,\n",
       " 'error_file_id': None,\n",
       " 'errors': None,\n",
       " 'expired_at': None,\n",
       " 'expires_at': 1745590050,\n",
       " 'failed_at': None,\n",
       " 'finalizing_at': None,\n",
       " 'in_progress_at': None,\n",
       " 'metadata': {'description': 'gpt label dataset data/confusion/prompts6.jsonl'},\n",
       " 'output_file_id': None,\n",
       " 'request_counts': {'completed': 0, 'failed': 0, 'total': 0}}"
      ]
     },
     "execution_count": 10,
     "metadata": {},
     "output_type": "execute_result"
    }
   ],
   "source": [
    "# criando lista para arquivo jsonl com os prompts para cada post\n",
    "prompts = []\n",
    "def create_jsonl(idx, text):\n",
    "    prompts.append(\n",
    "        {\n",
    "            \"custom_id\": f\"request-{idx}\",\n",
    "            \"method\": \"POST\",\n",
    "            \"url\": \"/v1/chat/completions\",\n",
    "            \"body\": {\n",
    "                \"model\": \"gpt-4o-mini\",\n",
    "                \"messages\": [\n",
    "                    {\n",
    "                        \"role\": \"user\",\n",
    "                        \"content\": f\"You are a data scientist who labels texts regarding confusion with one of the options [1.0 , 1.5, 2.0 , 2.5, 3.0 , 3.5, 4.0 , 4.5, 5.0 , 5.5, 6.0 , 6.5, 7.0 ], with 1 being very low confusion and up to 7 being very high confusion. Answer with only one of number option showed and label the following text: {text}\",\n",
    "                    },\n",
    "                ],\n",
    "                \"max_tokens\": 3,\n",
    "            },\n",
    "        }\n",
    "    )\n",
    "\n",
    "# intervalo, arquivo, resultado = range(0, 5000), \"data/confusion/prompts1.jsonl\", \"data/confusion/resultados1.jsonl\"\n",
    "# intervalo, arquivo, resultado = range(5000, 10000), \"data/confusion/prompts2.jsonl\", \"data/confusion/resultados2.jsonl\"\n",
    "# intervalo, arquivo, resultado = range(10000, 15000), \"data/confusion/prompts3.jsonl\", \"data/confusion/resultados3.jsonl\"\n",
    "# intervalo, arquivo, resultado = range(15000, 20000), \"data/confusion/prompts4.jsonl\", \"data/confusion/resultados4.jsonl\"\n",
    "# intervalo, arquivo, resultado = range(20000, 25000), \"data/confusion/prompts5.jsonl\", \"data/confusion/resultados5.jsonl\"\n",
    "intervalo, arquivo, resultado = range(25000, 29604), \"data/confusion/prompts6.jsonl\", \"data/confusion/resultados6.jsonl\"\n",
    "\n",
    "for idx, text in zip(intervalo,df['text'][intervalo]):\n",
    "    create_jsonl(idx, text)\n",
    "\n",
    "# salvando arquivo jsonl com os prompts\n",
    "with open(arquivo, \"w\", encoding=\"utf-8\") as file:\n",
    "    for entry in prompts:\n",
    "        file.write(json.dumps(entry) + \"\\n\")\n",
    "\n",
    "# enviando arquivo jsonl para API\n",
    "batch_input_file = client.files.create(file=open(arquivo, \"rb\"), purpose=\"batch\")\n",
    "\n",
    "# criando o lote do arquivo jsonl\n",
    "batch = client.batches.create(\n",
    "    input_file_id=batch_input_file.id,\n",
    "    endpoint=\"/v1/chat/completions\",\n",
    "    completion_window=\"24h\",\n",
    "    metadata={\"description\": f\"gpt label dataset {arquivo}\"},\n",
    ")\n",
    "\n",
    "dump(batch.to_dict(), \"data/batch.z\")\n",
    "dump(resultado, 'data/resultado.z')\n",
    "batch.to_dict()"
   ]
  },
  {
   "cell_type": "code",
   "execution_count": 22,
   "metadata": {},
   "outputs": [
    {
     "data": {
      "text/plain": [
       "{'id': 'batch_680a45a227c481908fd31ff35475501c',\n",
       " 'completion_window': '24h',\n",
       " 'created_at': 1745503650,\n",
       " 'endpoint': '/v1/chat/completions',\n",
       " 'input_file_id': 'file-2jfX29qoAC87U4g5rMX1hD',\n",
       " 'object': 'batch',\n",
       " 'status': 'in_progress',\n",
       " 'cancelled_at': None,\n",
       " 'cancelling_at': None,\n",
       " 'completed_at': None,\n",
       " 'error_file_id': None,\n",
       " 'errors': None,\n",
       " 'expired_at': None,\n",
       " 'expires_at': 1745590050,\n",
       " 'failed_at': None,\n",
       " 'finalizing_at': None,\n",
       " 'in_progress_at': 1745503651,\n",
       " 'metadata': {'description': 'gpt label dataset data/confusion/prompts6.jsonl'},\n",
       " 'output_file_id': None,\n",
       " 'request_counts': {'completed': 0, 'failed': 0, 'total': 4604}}"
      ]
     },
     "execution_count": 22,
     "metadata": {},
     "output_type": "execute_result"
    }
   ],
   "source": [
    "# verificar situação do lote - outra opção se souber o id do lote\n",
    "batch = load(\"data/batch.z\")\n",
    "client.batches.retrieve(batch[\"id\"]).to_dict()"
   ]
  },
  {
   "cell_type": "code",
   "execution_count": null,
   "metadata": {},
   "outputs": [],
   "source": [
    "# pegar resultado do lote\n",
    "resultado = load('data/resultado.z')\n",
    "output_file_id = client.batches.retrieve(batch[\"id\"]).to_dict()[\"output_file_id\"]\n",
    "file_response = client.files.content(output_file_id)\n",
    "file_response.write_to_file(resultado)"
   ]
  },
  {
   "cell_type": "markdown",
   "metadata": {},
   "source": [
    "#### **5.2 Tratamento dos resultados**"
   ]
  },
  {
   "cell_type": "code",
   "execution_count": null,
   "metadata": {},
   "outputs": [],
   "source": [
    "def get_labels(caminho_arquivo):        \n",
    "    dados = []\n",
    "    with open(caminho_arquivo, \"r\", encoding=\"utf-8\") as file:\n",
    "        for linha in file:\n",
    "            dados.append(json.loads(linha))\n",
    "\n",
    "    rotulos = []\n",
    "    for i in range(len(dados)):\n",
    "        try:\n",
    "            rotulos.append(float(dados[i][\"response\"][\"body\"][\"choices\"][0][\"message\"][\"content\"]))           \n",
    "        except ValueError:\n",
    "            rotulos.append(4.0)\n",
    "\n",
    "    return rotulos\n",
    "\n",
    "r1 = get_labels(\"data/confusion/resultados1.jsonl\")\n",
    "r2 = get_labels(\"data/confusion/resultados2.jsonl\")\n",
    "r3 = get_labels(\"data/confusion/resultados3.jsonl\")\n",
    "r4 = get_labels(\"data/confusion/resultados4.jsonl\")\n",
    "r5 = get_labels(\"data/confusion/resultados5.jsonl\")\n",
    "r6 = get_labels(\"data/confusion/resultados6.jsonl\")\n",
    "\n",
    "labels = pd.Series(r1 + r2 + r3 + r4 + r5 + r6).apply(lambda x: 0 if x < 4 else 1)\n",
    "df.insert(6, column=\"confusion(1/0)GPT\", value=labels)\n",
    "\n",
    "labels = pd.Series(r1 + r2 + r3 + r4 + r5 + r6)\n",
    "df.insert(8, column=\"confusion(1-7)GPT\", value=labels)\n",
    "df.columns"
   ]
  },
  {
   "cell_type": "code",
   "execution_count": null,
   "metadata": {},
   "outputs": [],
   "source": [
    "# calcular metricas dos rotulos\n",
    "from sklearn.metrics import classification_report, confusion_matrix, ConfusionMatrixDisplay\n",
    "cf = confusion_matrix(df[\"confusion(1/0)\"], df[\"confusion(1/0)GPT\"])\n",
    "ConfusionMatrixDisplay(confusion_matrix=cf, display_labels=[\"Negativo\", \"Positivo\"]).plot(cmap=\"Blues\")\n",
    "print(classification_report(df[\"confusion(1/0)\"], df[\"confusion(1/0)GPT\"]))"
   ]
  }
 ],
 "metadata": {
  "kernelspec": {
   "display_name": "base",
   "language": "python",
   "name": "python3"
  },
  "language_info": {
   "codemirror_mode": {
    "name": "ipython",
    "version": 3
   },
   "file_extension": ".py",
   "mimetype": "text/x-python",
   "name": "python",
   "nbconvert_exporter": "python",
   "pygments_lexer": "ipython3",
   "version": "3.12.7"
  }
 },
 "nbformat": 4,
 "nbformat_minor": 2
}
