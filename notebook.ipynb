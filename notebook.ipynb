{
 "cells": [
  {
   "cell_type": "markdown",
   "metadata": {},
   "source": [
    "### **1. Bibliotecas**"
   ]
  },
  {
   "cell_type": "code",
   "execution_count": 2,
   "metadata": {},
   "outputs": [],
   "source": [
    "import os\n",
    "import json\n",
    "import numpy as np\n",
    "import pandas as pd\n",
    "from scipy import stats\n",
    "from joblib import dump, load\n",
    "from openai import OpenAI, AsyncOpenAI\n",
    "import nest_asyncio\n",
    "import asyncio\n",
    "nest_asyncio.apply()\n",
    "from tqdm.notebook import tqdm\n",
    "tqdm.pandas()\n",
    "from warnings import filterwarnings\n",
    "filterwarnings('ignore')"
   ]
  },
  {
   "cell_type": "markdown",
   "metadata": {},
   "source": [
    "---\n",
    "### **2. Dataset**"
   ]
  },
  {
   "cell_type": "code",
   "execution_count": 3,
   "metadata": {},
   "outputs": [
    {
     "data": {
      "application/vnd.microsoft.datawrangler.viewer.v0+json": {
       "columns": [
        {
         "name": "index",
         "rawType": "int64",
         "type": "integer"
        },
        {
         "name": "Text",
         "rawType": "object",
         "type": "string"
        },
        {
         "name": "Text_PT",
         "rawType": "object",
         "type": "string"
        },
        {
         "name": "Opinion(1/0)",
         "rawType": "int64",
         "type": "integer"
        },
        {
         "name": "Question(1/0)",
         "rawType": "int64",
         "type": "integer"
        },
        {
         "name": "Answer(1/0)",
         "rawType": "int64",
         "type": "integer"
        },
        {
         "name": "Sentiment(1-7)",
         "rawType": "float64",
         "type": "float"
        },
        {
         "name": "Confusion(1-7)",
         "rawType": "float64",
         "type": "float"
        },
        {
         "name": "Urgency(1-7)",
         "rawType": "float64",
         "type": "float"
        },
        {
         "name": "CourseType",
         "rawType": "object",
         "type": "string"
        },
        {
         "name": "forum_post_id",
         "rawType": "object",
         "type": "string"
        },
        {
         "name": "course_display_name",
         "rawType": "object",
         "type": "string"
        },
        {
         "name": "forum_uid",
         "rawType": "object",
         "type": "string"
        },
        {
         "name": "created_at",
         "rawType": "datetime64[ns]",
         "type": "datetime"
        },
        {
         "name": "post_type",
         "rawType": "object",
         "type": "string"
        },
        {
         "name": "anonymous",
         "rawType": "float64",
         "type": "float"
        },
        {
         "name": "anonymous_to_peers",
         "rawType": "float64",
         "type": "float"
        },
        {
         "name": "up_count",
         "rawType": "float64",
         "type": "float"
        },
        {
         "name": "comment_thread_id",
         "rawType": "object",
         "type": "string"
        },
        {
         "name": "reads",
         "rawType": "float64",
         "type": "float"
        }
       ],
       "conversionMethod": "pd.DataFrame",
       "ref": "f37d5c7d-4286-4f6d-86bd-49aa4860ddc9",
       "rows": [
        [
         "0",
         "Interesting! How often we say those things to others without really understanding what we are saying. That must have been a powerful experience! Excellent!",
         "Interessante! Quantas vezes dizemos essas coisas para os outros sem realmente entender o que estamos dizendo. Essa deve ter sido uma experiência poderosa! Excelente!",
         "1",
         "0",
         "0",
         "6.5",
         "2.0",
         "1.5",
         "Education",
         "5225177f2c501f0a00000015",
         "Education/EDUC115N/How_to_Learn_Math",
         "30CADB93E6DE4711193D7BD05F2AE95C",
         "2013-09-02 22:55:59",
         "Comment",
         "0.0",
         "0.0",
         "0.0",
         "5221a8262cfae31200000001",
         "41.0"
        ],
        [
         "1",
         "What is \\Algebra as a Math Game\\\" or are you just saying you create games that incorporate algebra.\"",
         "O que é \\ Álgebra como um jogo de matemática \\ \"Ou você está apenas dizendo que cria jogos que incorporam álgebra\".",
         "0",
         "1",
         "0",
         "4.0",
         "5.0",
         "3.5",
         "Education",
         "5207d0e9935dfc0e0000005e",
         "Education/EDUC115N/How_to_Learn_Math",
         "37D8FAEE7D0B94B6CFC57D98FD3D0BA5",
         "2013-08-11 17:59:05",
         "Comment",
         "0.0",
         "0.0",
         "0.0",
         "520663839df35b0a00000043",
         "55.0"
        ],
        [
         "2",
         "I like the idea of my kids principal who says \\Smart doesn't mean easy, smart means working hard\\\" and incorporating the idea of making mistakes into working hard.\"",
         "Gosto da ideia do diretor dos meus filhos que diz \\ Smart não significa fácil, inteligente significa trabalhar duro \"e incorporar a idéia de cometer erros para trabalhar duro\".",
         "1",
         "0",
         "0",
         "5.5",
         "3.0",
         "2.5",
         "Education",
         "52052c82d01fec0a00000071",
         "Education/EDUC115N/How_to_Learn_Math",
         "CC11480215042B3EB6E5905EAB13B733",
         "2013-08-09 17:53:06",
         "Comment",
         "0.0",
         "0.0",
         "0.0",
         "51e59415e339d716000001a6",
         "25.0"
        ]
       ],
       "shape": {
        "columns": 19,
        "rows": 3
       }
      },
      "text/html": [
       "<div>\n",
       "<style scoped>\n",
       "    .dataframe tbody tr th:only-of-type {\n",
       "        vertical-align: middle;\n",
       "    }\n",
       "\n",
       "    .dataframe tbody tr th {\n",
       "        vertical-align: top;\n",
       "    }\n",
       "\n",
       "    .dataframe thead th {\n",
       "        text-align: right;\n",
       "    }\n",
       "</style>\n",
       "<table border=\"1\" class=\"dataframe\">\n",
       "  <thead>\n",
       "    <tr style=\"text-align: right;\">\n",
       "      <th></th>\n",
       "      <th>Text</th>\n",
       "      <th>Text_PT</th>\n",
       "      <th>Opinion(1/0)</th>\n",
       "      <th>Question(1/0)</th>\n",
       "      <th>Answer(1/0)</th>\n",
       "      <th>Sentiment(1-7)</th>\n",
       "      <th>Confusion(1-7)</th>\n",
       "      <th>Urgency(1-7)</th>\n",
       "      <th>CourseType</th>\n",
       "      <th>forum_post_id</th>\n",
       "      <th>course_display_name</th>\n",
       "      <th>forum_uid</th>\n",
       "      <th>created_at</th>\n",
       "      <th>post_type</th>\n",
       "      <th>anonymous</th>\n",
       "      <th>anonymous_to_peers</th>\n",
       "      <th>up_count</th>\n",
       "      <th>comment_thread_id</th>\n",
       "      <th>reads</th>\n",
       "    </tr>\n",
       "  </thead>\n",
       "  <tbody>\n",
       "    <tr>\n",
       "      <th>0</th>\n",
       "      <td>Interesting! How often we say those things to ...</td>\n",
       "      <td>Interessante! Quantas vezes dizemos essas cois...</td>\n",
       "      <td>1</td>\n",
       "      <td>0</td>\n",
       "      <td>0</td>\n",
       "      <td>6.5</td>\n",
       "      <td>2.0</td>\n",
       "      <td>1.5</td>\n",
       "      <td>Education</td>\n",
       "      <td>5225177f2c501f0a00000015</td>\n",
       "      <td>Education/EDUC115N/How_to_Learn_Math</td>\n",
       "      <td>30CADB93E6DE4711193D7BD05F2AE95C</td>\n",
       "      <td>2013-09-02 22:55:59</td>\n",
       "      <td>Comment</td>\n",
       "      <td>0.0</td>\n",
       "      <td>0.0</td>\n",
       "      <td>0.0</td>\n",
       "      <td>5221a8262cfae31200000001</td>\n",
       "      <td>41.0</td>\n",
       "    </tr>\n",
       "    <tr>\n",
       "      <th>1</th>\n",
       "      <td>What is \\Algebra as a Math Game\\\" or are you j...</td>\n",
       "      <td>O que é \\ Álgebra como um jogo de matemática \\...</td>\n",
       "      <td>0</td>\n",
       "      <td>1</td>\n",
       "      <td>0</td>\n",
       "      <td>4.0</td>\n",
       "      <td>5.0</td>\n",
       "      <td>3.5</td>\n",
       "      <td>Education</td>\n",
       "      <td>5207d0e9935dfc0e0000005e</td>\n",
       "      <td>Education/EDUC115N/How_to_Learn_Math</td>\n",
       "      <td>37D8FAEE7D0B94B6CFC57D98FD3D0BA5</td>\n",
       "      <td>2013-08-11 17:59:05</td>\n",
       "      <td>Comment</td>\n",
       "      <td>0.0</td>\n",
       "      <td>0.0</td>\n",
       "      <td>0.0</td>\n",
       "      <td>520663839df35b0a00000043</td>\n",
       "      <td>55.0</td>\n",
       "    </tr>\n",
       "    <tr>\n",
       "      <th>2</th>\n",
       "      <td>I like the idea of my kids principal who says ...</td>\n",
       "      <td>Gosto da ideia do diretor dos meus filhos que ...</td>\n",
       "      <td>1</td>\n",
       "      <td>0</td>\n",
       "      <td>0</td>\n",
       "      <td>5.5</td>\n",
       "      <td>3.0</td>\n",
       "      <td>2.5</td>\n",
       "      <td>Education</td>\n",
       "      <td>52052c82d01fec0a00000071</td>\n",
       "      <td>Education/EDUC115N/How_to_Learn_Math</td>\n",
       "      <td>CC11480215042B3EB6E5905EAB13B733</td>\n",
       "      <td>2013-08-09 17:53:06</td>\n",
       "      <td>Comment</td>\n",
       "      <td>0.0</td>\n",
       "      <td>0.0</td>\n",
       "      <td>0.0</td>\n",
       "      <td>51e59415e339d716000001a6</td>\n",
       "      <td>25.0</td>\n",
       "    </tr>\n",
       "  </tbody>\n",
       "</table>\n",
       "</div>"
      ],
      "text/plain": [
       "                                                Text  \\\n",
       "0  Interesting! How often we say those things to ...   \n",
       "1  What is \\Algebra as a Math Game\\\" or are you j...   \n",
       "2  I like the idea of my kids principal who says ...   \n",
       "\n",
       "                                             Text_PT  Opinion(1/0)  \\\n",
       "0  Interessante! Quantas vezes dizemos essas cois...             1   \n",
       "1  O que é \\ Álgebra como um jogo de matemática \\...             0   \n",
       "2  Gosto da ideia do diretor dos meus filhos que ...             1   \n",
       "\n",
       "   Question(1/0)  Answer(1/0)  Sentiment(1-7)  Confusion(1-7)  Urgency(1-7)  \\\n",
       "0              0            0             6.5             2.0           1.5   \n",
       "1              1            0             4.0             5.0           3.5   \n",
       "2              0            0             5.5             3.0           2.5   \n",
       "\n",
       "  CourseType             forum_post_id                   course_display_name  \\\n",
       "0  Education  5225177f2c501f0a00000015  Education/EDUC115N/How_to_Learn_Math   \n",
       "1  Education  5207d0e9935dfc0e0000005e  Education/EDUC115N/How_to_Learn_Math   \n",
       "2  Education  52052c82d01fec0a00000071  Education/EDUC115N/How_to_Learn_Math   \n",
       "\n",
       "                          forum_uid          created_at post_type  anonymous  \\\n",
       "0  30CADB93E6DE4711193D7BD05F2AE95C 2013-09-02 22:55:59   Comment        0.0   \n",
       "1  37D8FAEE7D0B94B6CFC57D98FD3D0BA5 2013-08-11 17:59:05   Comment        0.0   \n",
       "2  CC11480215042B3EB6E5905EAB13B733 2013-08-09 17:53:06   Comment        0.0   \n",
       "\n",
       "   anonymous_to_peers  up_count         comment_thread_id  reads  \n",
       "0                 0.0       0.0  5221a8262cfae31200000001   41.0  \n",
       "1                 0.0       0.0  520663839df35b0a00000043   55.0  \n",
       "2                 0.0       0.0  51e59415e339d716000001a6   25.0  "
      ]
     },
     "execution_count": 3,
     "metadata": {},
     "output_type": "execute_result"
    }
   ],
   "source": [
    "url = os.getenv(\"URL_DATASET\")\n",
    "df = pd.read_excel(url)\n",
    "df.head(3)"
   ]
  },
  {
   "cell_type": "code",
   "execution_count": 9,
   "metadata": {},
   "outputs": [
    {
     "data": {
      "text/plain": [
       "['data/df_stanford.z']"
      ]
     },
     "execution_count": 9,
     "metadata": {},
     "output_type": "execute_result"
    }
   ],
   "source": [
    "dump(df, \"data/df_stanford.z\")"
   ]
  },
  {
   "cell_type": "markdown",
   "metadata": {},
   "source": [
    "---\n",
    "### **3. Dataframe salvo**"
   ]
  },
  {
   "cell_type": "code",
   "execution_count": 3,
   "metadata": {},
   "outputs": [
    {
     "data": {
      "text/html": [
       "<div>\n",
       "<style scoped>\n",
       "    .dataframe tbody tr th:only-of-type {\n",
       "        vertical-align: middle;\n",
       "    }\n",
       "\n",
       "    .dataframe tbody tr th {\n",
       "        vertical-align: top;\n",
       "    }\n",
       "\n",
       "    .dataframe thead th {\n",
       "        text-align: right;\n",
       "    }\n",
       "</style>\n",
       "<table border=\"1\" class=\"dataframe\">\n",
       "  <thead>\n",
       "    <tr style=\"text-align: right;\">\n",
       "      <th></th>\n",
       "      <th>Text</th>\n",
       "      <th>Text_PT</th>\n",
       "      <th>Opinion(1/0)</th>\n",
       "      <th>Question(1/0)</th>\n",
       "      <th>Answer(1/0)</th>\n",
       "      <th>Sentiment(1-7)</th>\n",
       "      <th>Confusion(1-7)</th>\n",
       "      <th>Urgency(1-7)</th>\n",
       "      <th>CourseType</th>\n",
       "      <th>forum_post_id</th>\n",
       "      <th>course_display_name</th>\n",
       "      <th>forum_uid</th>\n",
       "      <th>created_at</th>\n",
       "      <th>post_type</th>\n",
       "      <th>anonymous</th>\n",
       "      <th>anonymous_to_peers</th>\n",
       "      <th>up_count</th>\n",
       "      <th>comment_thread_id</th>\n",
       "      <th>reads</th>\n",
       "    </tr>\n",
       "  </thead>\n",
       "  <tbody>\n",
       "    <tr>\n",
       "      <th>0</th>\n",
       "      <td>Interesting! How often we say those things to ...</td>\n",
       "      <td>Interessante! Quantas vezes dizemos essas cois...</td>\n",
       "      <td>1</td>\n",
       "      <td>0</td>\n",
       "      <td>0</td>\n",
       "      <td>6.5</td>\n",
       "      <td>2.0</td>\n",
       "      <td>1.5</td>\n",
       "      <td>Education</td>\n",
       "      <td>5225177f2c501f0a00000015</td>\n",
       "      <td>Education/EDUC115N/How_to_Learn_Math</td>\n",
       "      <td>30CADB93E6DE4711193D7BD05F2AE95C</td>\n",
       "      <td>2013-09-02 22:55:59</td>\n",
       "      <td>Comment</td>\n",
       "      <td>0.0</td>\n",
       "      <td>0.0</td>\n",
       "      <td>0.0</td>\n",
       "      <td>5221a8262cfae31200000001</td>\n",
       "      <td>41.0</td>\n",
       "    </tr>\n",
       "    <tr>\n",
       "      <th>1</th>\n",
       "      <td>What is \\Algebra as a Math Game\\\" or are you j...</td>\n",
       "      <td>O que é \\ Álgebra como um jogo de matemática \\...</td>\n",
       "      <td>0</td>\n",
       "      <td>1</td>\n",
       "      <td>0</td>\n",
       "      <td>4.0</td>\n",
       "      <td>5.0</td>\n",
       "      <td>3.5</td>\n",
       "      <td>Education</td>\n",
       "      <td>5207d0e9935dfc0e0000005e</td>\n",
       "      <td>Education/EDUC115N/How_to_Learn_Math</td>\n",
       "      <td>37D8FAEE7D0B94B6CFC57D98FD3D0BA5</td>\n",
       "      <td>2013-08-11 17:59:05</td>\n",
       "      <td>Comment</td>\n",
       "      <td>0.0</td>\n",
       "      <td>0.0</td>\n",
       "      <td>0.0</td>\n",
       "      <td>520663839df35b0a00000043</td>\n",
       "      <td>55.0</td>\n",
       "    </tr>\n",
       "  </tbody>\n",
       "</table>\n",
       "</div>"
      ],
      "text/plain": [
       "                                                Text  \\\n",
       "0  Interesting! How often we say those things to ...   \n",
       "1  What is \\Algebra as a Math Game\\\" or are you j...   \n",
       "\n",
       "                                             Text_PT  Opinion(1/0)  \\\n",
       "0  Interessante! Quantas vezes dizemos essas cois...             1   \n",
       "1  O que é \\ Álgebra como um jogo de matemática \\...             0   \n",
       "\n",
       "   Question(1/0)  Answer(1/0)  Sentiment(1-7)  Confusion(1-7)  Urgency(1-7)  \\\n",
       "0              0            0             6.5             2.0           1.5   \n",
       "1              1            0             4.0             5.0           3.5   \n",
       "\n",
       "  CourseType             forum_post_id                   course_display_name  \\\n",
       "0  Education  5225177f2c501f0a00000015  Education/EDUC115N/How_to_Learn_Math   \n",
       "1  Education  5207d0e9935dfc0e0000005e  Education/EDUC115N/How_to_Learn_Math   \n",
       "\n",
       "                          forum_uid          created_at post_type  anonymous  \\\n",
       "0  30CADB93E6DE4711193D7BD05F2AE95C 2013-09-02 22:55:59   Comment        0.0   \n",
       "1  37D8FAEE7D0B94B6CFC57D98FD3D0BA5 2013-08-11 17:59:05   Comment        0.0   \n",
       "\n",
       "   anonymous_to_peers  up_count         comment_thread_id  reads  \n",
       "0                 0.0       0.0  5221a8262cfae31200000001   41.0  \n",
       "1                 0.0       0.0  520663839df35b0a00000043   55.0  "
      ]
     },
     "execution_count": 3,
     "metadata": {},
     "output_type": "execute_result"
    }
   ],
   "source": [
    "df = load('data/df_stanford.z')\n",
    "df.head(2)"
   ]
  },
  {
   "cell_type": "markdown",
   "metadata": {},
   "source": [
    "---\n",
    "### **4. Rótulos de Sentimentos**"
   ]
  },
  {
   "cell_type": "code",
   "execution_count": 5,
   "metadata": {},
   "outputs": [
    {
     "data": {
      "text/plain": [
       "array([1. , 1.5, 2. , 2.5, 3. , 3.5, 4. , 4.5, 5. , 5.5, 6. , 6.5, 7. ])"
      ]
     },
     "execution_count": 5,
     "metadata": {},
     "output_type": "execute_result"
    }
   ],
   "source": [
    "np.sort(df['Sentiment(1-7)'].unique())"
   ]
  },
  {
   "cell_type": "markdown",
   "metadata": {},
   "source": [
    "---\n",
    "### **5. Rotulando um post com GPT**"
   ]
  },
  {
   "cell_type": "code",
   "execution_count": 6,
   "metadata": {},
   "outputs": [],
   "source": [
    "client = OpenAI(api_key=os.getenv(\"OPENAI_API_KEY\"))\n",
    "\n",
    "def gpt_label(text):\n",
    "    try:\n",
    "        response = client.chat.completions.create(\n",
    "            # model=\"gpt-3.5-turbo\",\n",
    "            # model=\"gpt-4o\",\n",
    "            model=\"gpt-4o-mini\",\n",
    "            max_tokens=3,\n",
    "            store=True,\n",
    "            messages=[\n",
    "                {\n",
    "                    \"role\": \"user\",\n",
    "                    \"content\": f\"You are a data scientist who labels texts regarding sentiment with one of the options [1. , 1.5, 2. , 2.5, 3. , 3.5, 4. , 4.5, 5. , 5.5, 6. , 6.5, 7. ], with 1 being very negative sentiment and up to 7 being very positive sentiment. Answer only one number and label the following text: {text}\",\n",
    "                },\n",
    "            ],\n",
    "        )\n",
    "        return response.choices[0].message\n",
    "    except Exception as e:\n",
    "        print(f'Erro ao rotular: {str(e)}')\n",
    "        return 0"
   ]
  },
  {
   "cell_type": "code",
   "execution_count": 7,
   "metadata": {},
   "outputs": [
    {
     "name": "stdout",
     "output_type": "stream",
     "text": [
      "Rótulo escolhido pelo GPT: 6.5\n",
      "--------------------------------------------------\n",
      "Post:\n",
      "Interesting! How often we say those things to others without really understanding what we are saying. That must have been a powerful experience! Excellent!\n",
      "Rótulo real:  6.5\n"
     ]
    }
   ],
   "source": [
    "indice_escolhido = 0\n",
    "rotulo = float(gpt_label(df[\"Text\"][indice_escolhido]).content)\n",
    "print(f'Rótulo escolhido pelo GPT: {rotulo}')\n",
    "print('-'*50)\n",
    "print('Post:')\n",
    "print(df[[\"Text\", \"Sentiment(1-7)\"]].iloc[indice_escolhido]['Text'])\n",
    "print('Rótulo real: ', df[[\"Text\", \"Sentiment(1-7)\"]].iloc[indice_escolhido][\"Sentiment(1-7)\"])"
   ]
  },
  {
   "cell_type": "code",
   "execution_count": 8,
   "metadata": {},
   "outputs": [
    {
     "data": {
      "text/html": [
       "<div>\n",
       "<style scoped>\n",
       "    .dataframe tbody tr th:only-of-type {\n",
       "        vertical-align: middle;\n",
       "    }\n",
       "\n",
       "    .dataframe tbody tr th {\n",
       "        vertical-align: top;\n",
       "    }\n",
       "\n",
       "    .dataframe thead th {\n",
       "        text-align: right;\n",
       "    }\n",
       "</style>\n",
       "<table border=\"1\" class=\"dataframe\">\n",
       "  <thead>\n",
       "    <tr style=\"text-align: right;\">\n",
       "      <th></th>\n",
       "      <th>Text</th>\n",
       "      <th>Sentiment(1-7)</th>\n",
       "    </tr>\n",
       "  </thead>\n",
       "  <tbody>\n",
       "    <tr>\n",
       "      <th>0</th>\n",
       "      <td>Interesting! How often we say those things to ...</td>\n",
       "      <td>6.5</td>\n",
       "    </tr>\n",
       "    <tr>\n",
       "      <th>1</th>\n",
       "      <td>What is \\Algebra as a Math Game\\\" or are you j...</td>\n",
       "      <td>4.0</td>\n",
       "    </tr>\n",
       "    <tr>\n",
       "      <th>2</th>\n",
       "      <td>I like the idea of my kids principal who says ...</td>\n",
       "      <td>5.5</td>\n",
       "    </tr>\n",
       "    <tr>\n",
       "      <th>3</th>\n",
       "      <td>From their responses, it seems the students re...</td>\n",
       "      <td>6.0</td>\n",
       "    </tr>\n",
       "    <tr>\n",
       "      <th>4</th>\n",
       "      <td>The boys loved math, because \\there is freedom...</td>\n",
       "      <td>7.0</td>\n",
       "    </tr>\n",
       "    <tr>\n",
       "      <th>...</th>\n",
       "      <td>...</td>\n",
       "      <td>...</td>\n",
       "    </tr>\n",
       "    <tr>\n",
       "      <th>29599</th>\n",
       "      <td>The p value tells us the probability of observ...</td>\n",
       "      <td>4.0</td>\n",
       "    </tr>\n",
       "    <tr>\n",
       "      <th>29600</th>\n",
       "      <td>given the null hypothesis is considered true</td>\n",
       "      <td>4.0</td>\n",
       "    </tr>\n",
       "    <tr>\n",
       "      <th>29601</th>\n",
       "      <td>&gt; Hello Josh,_x0007__x0007_Is this hypothesis ...</td>\n",
       "      <td>4.0</td>\n",
       "    </tr>\n",
       "    <tr>\n",
       "      <th>29602</th>\n",
       "      <td>Hi Josh,_x0007__x0007__x0007__x0007_Looking at...</td>\n",
       "      <td>3.5</td>\n",
       "    </tr>\n",
       "    <tr>\n",
       "      <th>29603</th>\n",
       "      <td>thanks Dr.Josh</td>\n",
       "      <td>4.0</td>\n",
       "    </tr>\n",
       "  </tbody>\n",
       "</table>\n",
       "<p>29604 rows × 2 columns</p>\n",
       "</div>"
      ],
      "text/plain": [
       "                                                    Text  Sentiment(1-7)\n",
       "0      Interesting! How often we say those things to ...             6.5\n",
       "1      What is \\Algebra as a Math Game\\\" or are you j...             4.0\n",
       "2      I like the idea of my kids principal who says ...             5.5\n",
       "3      From their responses, it seems the students re...             6.0\n",
       "4      The boys loved math, because \\there is freedom...             7.0\n",
       "...                                                  ...             ...\n",
       "29599  The p value tells us the probability of observ...             4.0\n",
       "29600       given the null hypothesis is considered true             4.0\n",
       "29601  > Hello Josh,_x0007__x0007_Is this hypothesis ...             4.0\n",
       "29602  Hi Josh,_x0007__x0007__x0007__x0007_Looking at...             3.5\n",
       "29603                                     thanks Dr.Josh             4.0\n",
       "\n",
       "[29604 rows x 2 columns]"
      ]
     },
     "execution_count": 8,
     "metadata": {},
     "output_type": "execute_result"
    }
   ],
   "source": [
    "df[[\"Text\", \"Sentiment(1-7)\"]]"
   ]
  },
  {
   "cell_type": "markdown",
   "metadata": {},
   "source": [
    "---\n",
    "### **6. Rotulando dataset completo com GPT**"
   ]
  },
  {
   "cell_type": "code",
   "execution_count": 9,
   "metadata": {},
   "outputs": [],
   "source": [
    "client = AsyncOpenAI(api_key=os.getenv(\"OPENAI_API_KEY\"))\n",
    "\n",
    "async def gpt_label_async(text):\n",
    "    try:\n",
    "        response = await client.chat.completions.create(    \n",
    "            # model=\"gpt-3.5-turbo\",\n",
    "            # model=\"gpt-4o\",\n",
    "            model=\"gpt-4o-mini\",\n",
    "            max_tokens=3,\n",
    "            store=True,\n",
    "            messages=[\n",
    "                {\n",
    "                    \"role\": \"user\",\n",
    "                    \"content\": f\"You are a data scientist who labels texts regarding sentiment with one of the options [1. , 1.5, 2. , 2.5, 3. , 3.5, 4. , 4.5, 5. , 5.5, 6. , 6.5, 7. ], with 1 being very negative sentiment and up to 7 being very positive sentiment. Answer only one number and label the following text: {text}\",\n",
    "                },\n",
    "            ],\n",
    "        )\n",
    "        return response.choices[0].message\n",
    "    except Exception as e:\n",
    "        print(f'Erro ao rotular: {str(e)}')\n",
    "        return 0"
   ]
  },
  {
   "cell_type": "code",
   "execution_count": null,
   "metadata": {},
   "outputs": [
    {
     "data": {
      "application/vnd.jupyter.widget-view+json": {
       "model_id": "464c9078dbdc47df9c9eb266f1529570",
       "version_major": 2,
       "version_minor": 0
      },
      "text/plain": [
       "  0%|          | 0/10 [00:00<?, ?it/s]"
      ]
     },
     "metadata": {},
     "output_type": "display_data"
    }
   ],
   "source": [
    "intervalo = range(0, 10)\n",
    "rotulos = df[\"Text\"][intervalo].progress_apply(lambda x: asyncio.run(gpt_label_async(x)))\n",
    "rotulos = rotulos.map(lambda x: float(x.content))"
   ]
  },
  {
   "cell_type": "code",
   "execution_count": 19,
   "metadata": {},
   "outputs": [
    {
     "name": "stdout",
     "output_type": "stream",
     "text": [
      "Estatística t: 0.30738931174713624\n",
      "Valor p: 0.7620751630156286\n",
      "Não há uma diferença significativa entre os rótulos reais e preditos.\n"
     ]
    }
   ],
   "source": [
    "# Realizar o teste t de Student\n",
    "t_stat, p_value = stats.ttest_ind(df[\"Sentiment(1-7)\"][intervalo], rotulos)\n",
    "\n",
    "print(f\"Estatística t: {t_stat}\")\n",
    "print(f\"Valor p: {p_value}\")\n",
    "\n",
    "# Verificar a significância\n",
    "print(f\"{'Há' if p_value < 0.05 else 'Não há'} uma diferença significativa entre os rótulos reais e preditos.\")"
   ]
  },
  {
   "cell_type": "code",
   "execution_count": null,
   "metadata": {},
   "outputs": [],
   "source": [
    "dump(rotulos, 'data/rotulos.z')"
   ]
  },
  {
   "cell_type": "markdown",
   "metadata": {},
   "source": [
    "### **7. Rotulando dataset completo com Batch API GPT**"
   ]
  },
  {
   "cell_type": "code",
   "execution_count": null,
   "metadata": {},
   "outputs": [],
   "source": [
    "# criando lista para arquivo jsonl com os prompts para cada post\n",
    "prompts = []\n",
    "def create_jsonl(idx, text):\n",
    "    prompts.append(\n",
    "        {\n",
    "            \"custom_id\": f\"request-{idx}\",\n",
    "            \"method\": \"POST\",\n",
    "            \"url\": \"/v1/chat/completions\",\n",
    "            \"body\": {\n",
    "                \"model\": \"gpt-4o-mini\",\n",
    "                \"messages\": [\n",
    "                    {\n",
    "                        \"role\": \"user\",\n",
    "                        \"content\": f\"You are a data scientist who labels texts regarding sentiment with one of the options [1. , 1.5, 2. , 2.5, 3. , 3.5, 4. , 4.5, 5. , 5.5, 6. , 6.5, 7. ], with 1 being very negative sentiment and up to 7 being very positive sentiment. Answer only one number and label the following text: {text}\",\n",
    "                    },\n",
    "                ],\n",
    "                \"max_tokens\": 3,\n",
    "            },\n",
    "        }\n",
    "    )\n",
    "\n",
    "for idx, text in enumerate(df['Text']):\n",
    "    create_jsonl(idx, text)"
   ]
  },
  {
   "cell_type": "code",
   "execution_count": 19,
   "metadata": {},
   "outputs": [],
   "source": [
    "# salvando arquivo jsonl com os prompts\n",
    "output_file = \"data/prompts.jsonl\"\n",
    "\n",
    "with open(output_file, \"w\", encoding=\"utf-8\") as file:\n",
    "    for entry in prompts:\n",
    "        file.write(json.dumps(entry) + \"\\n\")"
   ]
  },
  {
   "cell_type": "code",
   "execution_count": 20,
   "metadata": {},
   "outputs": [
    {
     "name": "stdout",
     "output_type": "stream",
     "text": [
      "FileObject(id='file-NGr2A6iZeHNwisw7irGV49', bytes=24411961, created_at=1743703522, filename='prompts.jsonl', object='file', purpose='batch', status='processed', expires_at=None, status_details=None)\n"
     ]
    }
   ],
   "source": [
    "client = OpenAI(api_key=os.getenv(\"OPENAI_API_KEY\"))\n",
    "\n",
    "batch_input_file = client.files.create(\n",
    "    file=open(\"data/prompts.jsonl\", \"rb\"), purpose=\"batch\"\n",
    ")\n",
    "\n",
    "print(batch_input_file)"
   ]
  },
  {
   "cell_type": "code",
   "execution_count": 21,
   "metadata": {},
   "outputs": [
    {
     "data": {
      "text/plain": [
       "Batch(id='batch_67eece5fdd1c8190ab1f74d0634e3790', completion_window='24h', created_at=1743703647, endpoint='/v1/chat/completions', input_file_id='file-NGr2A6iZeHNwisw7irGV49', object='batch', status='validating', cancelled_at=None, cancelling_at=None, completed_at=None, error_file_id=None, errors=None, expired_at=None, expires_at=1743790047, failed_at=None, finalizing_at=None, in_progress_at=None, metadata={'description': 'gpt label dataset'}, output_file_id=None, request_counts=BatchRequestCounts(completed=0, failed=0, total=0))"
      ]
     },
     "execution_count": 21,
     "metadata": {},
     "output_type": "execute_result"
    }
   ],
   "source": [
    "batch_input_file_id = batch_input_file.id\n",
    "client.batches.create(\n",
    "    input_file_id=batch_input_file_id,\n",
    "    endpoint=\"/v1/chat/completions\",\n",
    "    completion_window=\"24h\",\n",
    "    metadata={\"description\": \"gpt label dataset\"},\n",
    ")"
   ]
  }
 ],
 "metadata": {
  "kernelspec": {
   "display_name": "base",
   "language": "python",
   "name": "python3"
  },
  "language_info": {
   "codemirror_mode": {
    "name": "ipython",
    "version": 3
   },
   "file_extension": ".py",
   "mimetype": "text/x-python",
   "name": "python",
   "nbconvert_exporter": "python",
   "pygments_lexer": "ipython3",
   "version": "3.12.7"
  }
 },
 "nbformat": 4,
 "nbformat_minor": 2
}
