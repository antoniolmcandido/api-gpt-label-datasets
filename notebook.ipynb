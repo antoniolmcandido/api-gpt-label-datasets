{
 "cells": [
  {
   "cell_type": "markdown",
   "metadata": {},
   "source": [
    "##### **Bibliotecas**"
   ]
  },
  {
   "cell_type": "code",
   "execution_count": null,
   "metadata": {},
   "outputs": [],
   "source": [
    "import os\n",
    "import numpy as np\n",
    "import pandas as pd\n",
    "from joblib import dump, load\n",
    "from openai import OpenAI, AsyncOpenAI\n",
    "import nest_asyncio\n",
    "import asyncio\n",
    "nest_asyncio.apply()\n",
    "from warnings import filterwarnings\n",
    "filterwarnings('ignore')"
   ]
  },
  {
   "cell_type": "markdown",
   "metadata": {},
   "source": [
    "##### **Dataset**"
   ]
  },
  {
   "cell_type": "code",
   "execution_count": 3,
   "metadata": {},
   "outputs": [
    {
     "data": {
      "application/vnd.microsoft.datawrangler.viewer.v0+json": {
       "columns": [
        {
         "name": "index",
         "rawType": "int64",
         "type": "integer"
        },
        {
         "name": "Text",
         "rawType": "object",
         "type": "string"
        },
        {
         "name": "Text_PT",
         "rawType": "object",
         "type": "string"
        },
        {
         "name": "Opinion(1/0)",
         "rawType": "int64",
         "type": "integer"
        },
        {
         "name": "Question(1/0)",
         "rawType": "int64",
         "type": "integer"
        },
        {
         "name": "Answer(1/0)",
         "rawType": "int64",
         "type": "integer"
        },
        {
         "name": "Sentiment(1-7)",
         "rawType": "float64",
         "type": "float"
        },
        {
         "name": "Confusion(1-7)",
         "rawType": "float64",
         "type": "float"
        },
        {
         "name": "Urgency(1-7)",
         "rawType": "float64",
         "type": "float"
        },
        {
         "name": "CourseType",
         "rawType": "object",
         "type": "string"
        },
        {
         "name": "forum_post_id",
         "rawType": "object",
         "type": "string"
        },
        {
         "name": "course_display_name",
         "rawType": "object",
         "type": "string"
        },
        {
         "name": "forum_uid",
         "rawType": "object",
         "type": "string"
        },
        {
         "name": "created_at",
         "rawType": "datetime64[ns]",
         "type": "datetime"
        },
        {
         "name": "post_type",
         "rawType": "object",
         "type": "string"
        },
        {
         "name": "anonymous",
         "rawType": "float64",
         "type": "float"
        },
        {
         "name": "anonymous_to_peers",
         "rawType": "float64",
         "type": "float"
        },
        {
         "name": "up_count",
         "rawType": "float64",
         "type": "float"
        },
        {
         "name": "comment_thread_id",
         "rawType": "object",
         "type": "string"
        },
        {
         "name": "reads",
         "rawType": "float64",
         "type": "float"
        }
       ],
       "conversionMethod": "pd.DataFrame",
       "ref": "f37d5c7d-4286-4f6d-86bd-49aa4860ddc9",
       "rows": [
        [
         "0",
         "Interesting! How often we say those things to others without really understanding what we are saying. That must have been a powerful experience! Excellent!",
         "Interessante! Quantas vezes dizemos essas coisas para os outros sem realmente entender o que estamos dizendo. Essa deve ter sido uma experiência poderosa! Excelente!",
         "1",
         "0",
         "0",
         "6.5",
         "2.0",
         "1.5",
         "Education",
         "5225177f2c501f0a00000015",
         "Education/EDUC115N/How_to_Learn_Math",
         "30CADB93E6DE4711193D7BD05F2AE95C",
         "2013-09-02 22:55:59",
         "Comment",
         "0.0",
         "0.0",
         "0.0",
         "5221a8262cfae31200000001",
         "41.0"
        ],
        [
         "1",
         "What is \\Algebra as a Math Game\\\" or are you just saying you create games that incorporate algebra.\"",
         "O que é \\ Álgebra como um jogo de matemática \\ \"Ou você está apenas dizendo que cria jogos que incorporam álgebra\".",
         "0",
         "1",
         "0",
         "4.0",
         "5.0",
         "3.5",
         "Education",
         "5207d0e9935dfc0e0000005e",
         "Education/EDUC115N/How_to_Learn_Math",
         "37D8FAEE7D0B94B6CFC57D98FD3D0BA5",
         "2013-08-11 17:59:05",
         "Comment",
         "0.0",
         "0.0",
         "0.0",
         "520663839df35b0a00000043",
         "55.0"
        ],
        [
         "2",
         "I like the idea of my kids principal who says \\Smart doesn't mean easy, smart means working hard\\\" and incorporating the idea of making mistakes into working hard.\"",
         "Gosto da ideia do diretor dos meus filhos que diz \\ Smart não significa fácil, inteligente significa trabalhar duro \"e incorporar a idéia de cometer erros para trabalhar duro\".",
         "1",
         "0",
         "0",
         "5.5",
         "3.0",
         "2.5",
         "Education",
         "52052c82d01fec0a00000071",
         "Education/EDUC115N/How_to_Learn_Math",
         "CC11480215042B3EB6E5905EAB13B733",
         "2013-08-09 17:53:06",
         "Comment",
         "0.0",
         "0.0",
         "0.0",
         "51e59415e339d716000001a6",
         "25.0"
        ]
       ],
       "shape": {
        "columns": 19,
        "rows": 3
       }
      },
      "text/html": [
       "<div>\n",
       "<style scoped>\n",
       "    .dataframe tbody tr th:only-of-type {\n",
       "        vertical-align: middle;\n",
       "    }\n",
       "\n",
       "    .dataframe tbody tr th {\n",
       "        vertical-align: top;\n",
       "    }\n",
       "\n",
       "    .dataframe thead th {\n",
       "        text-align: right;\n",
       "    }\n",
       "</style>\n",
       "<table border=\"1\" class=\"dataframe\">\n",
       "  <thead>\n",
       "    <tr style=\"text-align: right;\">\n",
       "      <th></th>\n",
       "      <th>Text</th>\n",
       "      <th>Text_PT</th>\n",
       "      <th>Opinion(1/0)</th>\n",
       "      <th>Question(1/0)</th>\n",
       "      <th>Answer(1/0)</th>\n",
       "      <th>Sentiment(1-7)</th>\n",
       "      <th>Confusion(1-7)</th>\n",
       "      <th>Urgency(1-7)</th>\n",
       "      <th>CourseType</th>\n",
       "      <th>forum_post_id</th>\n",
       "      <th>course_display_name</th>\n",
       "      <th>forum_uid</th>\n",
       "      <th>created_at</th>\n",
       "      <th>post_type</th>\n",
       "      <th>anonymous</th>\n",
       "      <th>anonymous_to_peers</th>\n",
       "      <th>up_count</th>\n",
       "      <th>comment_thread_id</th>\n",
       "      <th>reads</th>\n",
       "    </tr>\n",
       "  </thead>\n",
       "  <tbody>\n",
       "    <tr>\n",
       "      <th>0</th>\n",
       "      <td>Interesting! How often we say those things to ...</td>\n",
       "      <td>Interessante! Quantas vezes dizemos essas cois...</td>\n",
       "      <td>1</td>\n",
       "      <td>0</td>\n",
       "      <td>0</td>\n",
       "      <td>6.5</td>\n",
       "      <td>2.0</td>\n",
       "      <td>1.5</td>\n",
       "      <td>Education</td>\n",
       "      <td>5225177f2c501f0a00000015</td>\n",
       "      <td>Education/EDUC115N/How_to_Learn_Math</td>\n",
       "      <td>30CADB93E6DE4711193D7BD05F2AE95C</td>\n",
       "      <td>2013-09-02 22:55:59</td>\n",
       "      <td>Comment</td>\n",
       "      <td>0.0</td>\n",
       "      <td>0.0</td>\n",
       "      <td>0.0</td>\n",
       "      <td>5221a8262cfae31200000001</td>\n",
       "      <td>41.0</td>\n",
       "    </tr>\n",
       "    <tr>\n",
       "      <th>1</th>\n",
       "      <td>What is \\Algebra as a Math Game\\\" or are you j...</td>\n",
       "      <td>O que é \\ Álgebra como um jogo de matemática \\...</td>\n",
       "      <td>0</td>\n",
       "      <td>1</td>\n",
       "      <td>0</td>\n",
       "      <td>4.0</td>\n",
       "      <td>5.0</td>\n",
       "      <td>3.5</td>\n",
       "      <td>Education</td>\n",
       "      <td>5207d0e9935dfc0e0000005e</td>\n",
       "      <td>Education/EDUC115N/How_to_Learn_Math</td>\n",
       "      <td>37D8FAEE7D0B94B6CFC57D98FD3D0BA5</td>\n",
       "      <td>2013-08-11 17:59:05</td>\n",
       "      <td>Comment</td>\n",
       "      <td>0.0</td>\n",
       "      <td>0.0</td>\n",
       "      <td>0.0</td>\n",
       "      <td>520663839df35b0a00000043</td>\n",
       "      <td>55.0</td>\n",
       "    </tr>\n",
       "    <tr>\n",
       "      <th>2</th>\n",
       "      <td>I like the idea of my kids principal who says ...</td>\n",
       "      <td>Gosto da ideia do diretor dos meus filhos que ...</td>\n",
       "      <td>1</td>\n",
       "      <td>0</td>\n",
       "      <td>0</td>\n",
       "      <td>5.5</td>\n",
       "      <td>3.0</td>\n",
       "      <td>2.5</td>\n",
       "      <td>Education</td>\n",
       "      <td>52052c82d01fec0a00000071</td>\n",
       "      <td>Education/EDUC115N/How_to_Learn_Math</td>\n",
       "      <td>CC11480215042B3EB6E5905EAB13B733</td>\n",
       "      <td>2013-08-09 17:53:06</td>\n",
       "      <td>Comment</td>\n",
       "      <td>0.0</td>\n",
       "      <td>0.0</td>\n",
       "      <td>0.0</td>\n",
       "      <td>51e59415e339d716000001a6</td>\n",
       "      <td>25.0</td>\n",
       "    </tr>\n",
       "  </tbody>\n",
       "</table>\n",
       "</div>"
      ],
      "text/plain": [
       "                                                Text  \\\n",
       "0  Interesting! How often we say those things to ...   \n",
       "1  What is \\Algebra as a Math Game\\\" or are you j...   \n",
       "2  I like the idea of my kids principal who says ...   \n",
       "\n",
       "                                             Text_PT  Opinion(1/0)  \\\n",
       "0  Interessante! Quantas vezes dizemos essas cois...             1   \n",
       "1  O que é \\ Álgebra como um jogo de matemática \\...             0   \n",
       "2  Gosto da ideia do diretor dos meus filhos que ...             1   \n",
       "\n",
       "   Question(1/0)  Answer(1/0)  Sentiment(1-7)  Confusion(1-7)  Urgency(1-7)  \\\n",
       "0              0            0             6.5             2.0           1.5   \n",
       "1              1            0             4.0             5.0           3.5   \n",
       "2              0            0             5.5             3.0           2.5   \n",
       "\n",
       "  CourseType             forum_post_id                   course_display_name  \\\n",
       "0  Education  5225177f2c501f0a00000015  Education/EDUC115N/How_to_Learn_Math   \n",
       "1  Education  5207d0e9935dfc0e0000005e  Education/EDUC115N/How_to_Learn_Math   \n",
       "2  Education  52052c82d01fec0a00000071  Education/EDUC115N/How_to_Learn_Math   \n",
       "\n",
       "                          forum_uid          created_at post_type  anonymous  \\\n",
       "0  30CADB93E6DE4711193D7BD05F2AE95C 2013-09-02 22:55:59   Comment        0.0   \n",
       "1  37D8FAEE7D0B94B6CFC57D98FD3D0BA5 2013-08-11 17:59:05   Comment        0.0   \n",
       "2  CC11480215042B3EB6E5905EAB13B733 2013-08-09 17:53:06   Comment        0.0   \n",
       "\n",
       "   anonymous_to_peers  up_count         comment_thread_id  reads  \n",
       "0                 0.0       0.0  5221a8262cfae31200000001   41.0  \n",
       "1                 0.0       0.0  520663839df35b0a00000043   55.0  \n",
       "2                 0.0       0.0  51e59415e339d716000001a6   25.0  "
      ]
     },
     "execution_count": 3,
     "metadata": {},
     "output_type": "execute_result"
    }
   ],
   "source": [
    "url = os.getenv(\"URL_DATASET\")\n",
    "df = pd.read_excel(url)\n",
    "df.head(3)"
   ]
  },
  {
   "cell_type": "code",
   "execution_count": 9,
   "metadata": {},
   "outputs": [
    {
     "data": {
      "text/plain": [
       "['data/df_stanford.z']"
      ]
     },
     "execution_count": 9,
     "metadata": {},
     "output_type": "execute_result"
    }
   ],
   "source": [
    "dump(df, \"data/df_stanford.z\")"
   ]
  },
  {
   "cell_type": "markdown",
   "metadata": {},
   "source": [
    "##### **Dataframe salvo**"
   ]
  },
  {
   "cell_type": "code",
   "execution_count": 10,
   "metadata": {},
   "outputs": [
    {
     "data": {
      "application/vnd.microsoft.datawrangler.viewer.v0+json": {
       "columns": [
        {
         "name": "index",
         "rawType": "int64",
         "type": "integer"
        },
        {
         "name": "Text",
         "rawType": "object",
         "type": "string"
        },
        {
         "name": "Text_PT",
         "rawType": "object",
         "type": "string"
        },
        {
         "name": "Opinion(1/0)",
         "rawType": "int64",
         "type": "integer"
        },
        {
         "name": "Question(1/0)",
         "rawType": "int64",
         "type": "integer"
        },
        {
         "name": "Answer(1/0)",
         "rawType": "int64",
         "type": "integer"
        },
        {
         "name": "Sentiment(1-7)",
         "rawType": "float64",
         "type": "float"
        },
        {
         "name": "Confusion(1-7)",
         "rawType": "float64",
         "type": "float"
        },
        {
         "name": "Urgency(1-7)",
         "rawType": "float64",
         "type": "float"
        },
        {
         "name": "CourseType",
         "rawType": "object",
         "type": "string"
        },
        {
         "name": "forum_post_id",
         "rawType": "object",
         "type": "string"
        },
        {
         "name": "course_display_name",
         "rawType": "object",
         "type": "string"
        },
        {
         "name": "forum_uid",
         "rawType": "object",
         "type": "string"
        },
        {
         "name": "created_at",
         "rawType": "datetime64[ns]",
         "type": "datetime"
        },
        {
         "name": "post_type",
         "rawType": "object",
         "type": "string"
        },
        {
         "name": "anonymous",
         "rawType": "float64",
         "type": "float"
        },
        {
         "name": "anonymous_to_peers",
         "rawType": "float64",
         "type": "float"
        },
        {
         "name": "up_count",
         "rawType": "float64",
         "type": "float"
        },
        {
         "name": "comment_thread_id",
         "rawType": "object",
         "type": "string"
        },
        {
         "name": "reads",
         "rawType": "float64",
         "type": "float"
        }
       ],
       "conversionMethod": "pd.DataFrame",
       "ref": "36c58066-1d10-4c0c-98ba-f086a81b1163",
       "rows": [
        [
         "0",
         "Interesting! How often we say those things to others without really understanding what we are saying. That must have been a powerful experience! Excellent!",
         "Interessante! Quantas vezes dizemos essas coisas para os outros sem realmente entender o que estamos dizendo. Essa deve ter sido uma experiência poderosa! Excelente!",
         "1",
         "0",
         "0",
         "6.5",
         "2.0",
         "1.5",
         "Education",
         "5225177f2c501f0a00000015",
         "Education/EDUC115N/How_to_Learn_Math",
         "30CADB93E6DE4711193D7BD05F2AE95C",
         "2013-09-02 22:55:59",
         "Comment",
         "0.0",
         "0.0",
         "0.0",
         "5221a8262cfae31200000001",
         "41.0"
        ],
        [
         "1",
         "What is \\Algebra as a Math Game\\\" or are you just saying you create games that incorporate algebra.\"",
         "O que é \\ Álgebra como um jogo de matemática \\ \"Ou você está apenas dizendo que cria jogos que incorporam álgebra\".",
         "0",
         "1",
         "0",
         "4.0",
         "5.0",
         "3.5",
         "Education",
         "5207d0e9935dfc0e0000005e",
         "Education/EDUC115N/How_to_Learn_Math",
         "37D8FAEE7D0B94B6CFC57D98FD3D0BA5",
         "2013-08-11 17:59:05",
         "Comment",
         "0.0",
         "0.0",
         "0.0",
         "520663839df35b0a00000043",
         "55.0"
        ],
        [
         "2",
         "I like the idea of my kids principal who says \\Smart doesn't mean easy, smart means working hard\\\" and incorporating the idea of making mistakes into working hard.\"",
         "Gosto da ideia do diretor dos meus filhos que diz \\ Smart não significa fácil, inteligente significa trabalhar duro \"e incorporar a idéia de cometer erros para trabalhar duro\".",
         "1",
         "0",
         "0",
         "5.5",
         "3.0",
         "2.5",
         "Education",
         "52052c82d01fec0a00000071",
         "Education/EDUC115N/How_to_Learn_Math",
         "CC11480215042B3EB6E5905EAB13B733",
         "2013-08-09 17:53:06",
         "Comment",
         "0.0",
         "0.0",
         "0.0",
         "51e59415e339d716000001a6",
         "25.0"
        ]
       ],
       "shape": {
        "columns": 19,
        "rows": 3
       }
      },
      "text/html": [
       "<div>\n",
       "<style scoped>\n",
       "    .dataframe tbody tr th:only-of-type {\n",
       "        vertical-align: middle;\n",
       "    }\n",
       "\n",
       "    .dataframe tbody tr th {\n",
       "        vertical-align: top;\n",
       "    }\n",
       "\n",
       "    .dataframe thead th {\n",
       "        text-align: right;\n",
       "    }\n",
       "</style>\n",
       "<table border=\"1\" class=\"dataframe\">\n",
       "  <thead>\n",
       "    <tr style=\"text-align: right;\">\n",
       "      <th></th>\n",
       "      <th>Text</th>\n",
       "      <th>Text_PT</th>\n",
       "      <th>Opinion(1/0)</th>\n",
       "      <th>Question(1/0)</th>\n",
       "      <th>Answer(1/0)</th>\n",
       "      <th>Sentiment(1-7)</th>\n",
       "      <th>Confusion(1-7)</th>\n",
       "      <th>Urgency(1-7)</th>\n",
       "      <th>CourseType</th>\n",
       "      <th>forum_post_id</th>\n",
       "      <th>course_display_name</th>\n",
       "      <th>forum_uid</th>\n",
       "      <th>created_at</th>\n",
       "      <th>post_type</th>\n",
       "      <th>anonymous</th>\n",
       "      <th>anonymous_to_peers</th>\n",
       "      <th>up_count</th>\n",
       "      <th>comment_thread_id</th>\n",
       "      <th>reads</th>\n",
       "    </tr>\n",
       "  </thead>\n",
       "  <tbody>\n",
       "    <tr>\n",
       "      <th>0</th>\n",
       "      <td>Interesting! How often we say those things to ...</td>\n",
       "      <td>Interessante! Quantas vezes dizemos essas cois...</td>\n",
       "      <td>1</td>\n",
       "      <td>0</td>\n",
       "      <td>0</td>\n",
       "      <td>6.5</td>\n",
       "      <td>2.0</td>\n",
       "      <td>1.5</td>\n",
       "      <td>Education</td>\n",
       "      <td>5225177f2c501f0a00000015</td>\n",
       "      <td>Education/EDUC115N/How_to_Learn_Math</td>\n",
       "      <td>30CADB93E6DE4711193D7BD05F2AE95C</td>\n",
       "      <td>2013-09-02 22:55:59</td>\n",
       "      <td>Comment</td>\n",
       "      <td>0.0</td>\n",
       "      <td>0.0</td>\n",
       "      <td>0.0</td>\n",
       "      <td>5221a8262cfae31200000001</td>\n",
       "      <td>41.0</td>\n",
       "    </tr>\n",
       "    <tr>\n",
       "      <th>1</th>\n",
       "      <td>What is \\Algebra as a Math Game\\\" or are you j...</td>\n",
       "      <td>O que é \\ Álgebra como um jogo de matemática \\...</td>\n",
       "      <td>0</td>\n",
       "      <td>1</td>\n",
       "      <td>0</td>\n",
       "      <td>4.0</td>\n",
       "      <td>5.0</td>\n",
       "      <td>3.5</td>\n",
       "      <td>Education</td>\n",
       "      <td>5207d0e9935dfc0e0000005e</td>\n",
       "      <td>Education/EDUC115N/How_to_Learn_Math</td>\n",
       "      <td>37D8FAEE7D0B94B6CFC57D98FD3D0BA5</td>\n",
       "      <td>2013-08-11 17:59:05</td>\n",
       "      <td>Comment</td>\n",
       "      <td>0.0</td>\n",
       "      <td>0.0</td>\n",
       "      <td>0.0</td>\n",
       "      <td>520663839df35b0a00000043</td>\n",
       "      <td>55.0</td>\n",
       "    </tr>\n",
       "    <tr>\n",
       "      <th>2</th>\n",
       "      <td>I like the idea of my kids principal who says ...</td>\n",
       "      <td>Gosto da ideia do diretor dos meus filhos que ...</td>\n",
       "      <td>1</td>\n",
       "      <td>0</td>\n",
       "      <td>0</td>\n",
       "      <td>5.5</td>\n",
       "      <td>3.0</td>\n",
       "      <td>2.5</td>\n",
       "      <td>Education</td>\n",
       "      <td>52052c82d01fec0a00000071</td>\n",
       "      <td>Education/EDUC115N/How_to_Learn_Math</td>\n",
       "      <td>CC11480215042B3EB6E5905EAB13B733</td>\n",
       "      <td>2013-08-09 17:53:06</td>\n",
       "      <td>Comment</td>\n",
       "      <td>0.0</td>\n",
       "      <td>0.0</td>\n",
       "      <td>0.0</td>\n",
       "      <td>51e59415e339d716000001a6</td>\n",
       "      <td>25.0</td>\n",
       "    </tr>\n",
       "  </tbody>\n",
       "</table>\n",
       "</div>"
      ],
      "text/plain": [
       "                                                Text  \\\n",
       "0  Interesting! How often we say those things to ...   \n",
       "1  What is \\Algebra as a Math Game\\\" or are you j...   \n",
       "2  I like the idea of my kids principal who says ...   \n",
       "\n",
       "                                             Text_PT  Opinion(1/0)  \\\n",
       "0  Interessante! Quantas vezes dizemos essas cois...             1   \n",
       "1  O que é \\ Álgebra como um jogo de matemática \\...             0   \n",
       "2  Gosto da ideia do diretor dos meus filhos que ...             1   \n",
       "\n",
       "   Question(1/0)  Answer(1/0)  Sentiment(1-7)  Confusion(1-7)  Urgency(1-7)  \\\n",
       "0              0            0             6.5             2.0           1.5   \n",
       "1              1            0             4.0             5.0           3.5   \n",
       "2              0            0             5.5             3.0           2.5   \n",
       "\n",
       "  CourseType             forum_post_id                   course_display_name  \\\n",
       "0  Education  5225177f2c501f0a00000015  Education/EDUC115N/How_to_Learn_Math   \n",
       "1  Education  5207d0e9935dfc0e0000005e  Education/EDUC115N/How_to_Learn_Math   \n",
       "2  Education  52052c82d01fec0a00000071  Education/EDUC115N/How_to_Learn_Math   \n",
       "\n",
       "                          forum_uid          created_at post_type  anonymous  \\\n",
       "0  30CADB93E6DE4711193D7BD05F2AE95C 2013-09-02 22:55:59   Comment        0.0   \n",
       "1  37D8FAEE7D0B94B6CFC57D98FD3D0BA5 2013-08-11 17:59:05   Comment        0.0   \n",
       "2  CC11480215042B3EB6E5905EAB13B733 2013-08-09 17:53:06   Comment        0.0   \n",
       "\n",
       "   anonymous_to_peers  up_count         comment_thread_id  reads  \n",
       "0                 0.0       0.0  5221a8262cfae31200000001   41.0  \n",
       "1                 0.0       0.0  520663839df35b0a00000043   55.0  \n",
       "2                 0.0       0.0  51e59415e339d716000001a6   25.0  "
      ]
     },
     "execution_count": 10,
     "metadata": {},
     "output_type": "execute_result"
    }
   ],
   "source": [
    "df = load('data/df_stanford.z')\n",
    "df.head(3)"
   ]
  },
  {
   "cell_type": "markdown",
   "metadata": {},
   "source": [
    "##### **Rótulos de Sentimentos**"
   ]
  },
  {
   "cell_type": "code",
   "execution_count": 11,
   "metadata": {},
   "outputs": [
    {
     "data": {
      "text/plain": [
       "array([1. , 1.5, 2. , 2.5, 3. , 3.5, 4. , 4.5, 5. , 5.5, 6. , 6.5, 7. ])"
      ]
     },
     "execution_count": 11,
     "metadata": {},
     "output_type": "execute_result"
    }
   ],
   "source": [
    "np.sort(df['Sentiment(1-7)'].unique())"
   ]
  },
  {
   "cell_type": "markdown",
   "metadata": {},
   "source": [
    "##### **Rotulando post com GPT**"
   ]
  },
  {
   "cell_type": "code",
   "execution_count": 21,
   "metadata": {},
   "outputs": [],
   "source": [
    "client = OpenAI(api_key=os.getenv(\"OPENAI_API_KEY\"))\n",
    "\n",
    "def gpt_label(text):\n",
    "    try:\n",
    "        response = client.chat.completions.create(\n",
    "            # model=\"gpt-3.5-turbo\",\n",
    "            # model=\"gpt-4o\",\n",
    "            model=\"gpt-4o-mini\",\n",
    "            max_tokens=3,\n",
    "            store=True,\n",
    "            messages=[\n",
    "                {\n",
    "                    \"role\": \"user\",\n",
    "                    \"content\": f\"You are a data scientist who labels texts regarding sentiment with one of the options [1. , 1.5, 2. , 2.5, 3. , 3.5, 4. , 4.5, 5. , 5.5, 6. , 6.5, 7. ], with 1 being very negative sentiment and up to 7 being very positive sentiment. Answer only one number and label the following text: {text}\",\n",
    "                },\n",
    "            ],\n",
    "        )\n",
    "        return response.choices[0].message\n",
    "    except Exception as e:\n",
    "        print(f'Erro ao rotular: {str(e)}')\n",
    "        return 0"
   ]
  },
  {
   "cell_type": "code",
   "execution_count": 22,
   "metadata": {},
   "outputs": [
    {
     "name": "stdout",
     "output_type": "stream",
     "text": [
      "Rótulo escolhido pelo GPT: 5.5\n",
      "--------------------------------------------------\n",
      "Post:\n",
      "I like the idea of my kids principal who says \\Smart doesn't mean easy, smart means working hard\\\" and incorporating the idea of making mistakes into working hard.\"\n",
      "Rótulo real:  5.5\n"
     ]
    }
   ],
   "source": [
    "indice_escolhido = 2\n",
    "rotulo = float(gpt_label(df[\"Text\"][indice_escolhido]).content)\n",
    "print(f'Rótulo escolhido pelo GPT: {rotulo}')\n",
    "print('-'*50)\n",
    "print('Post:')\n",
    "print(df[[\"Text\", \"Sentiment(1-7)\"]].iloc[indice_escolhido]['Text'])\n",
    "print('Rótulo real: ', df[[\"Text\", \"Sentiment(1-7)\"]].iloc[indice_escolhido][\"Sentiment(1-7)\"])"
   ]
  },
  {
   "cell_type": "code",
   "execution_count": 125,
   "metadata": {},
   "outputs": [
    {
     "data": {
      "application/vnd.microsoft.datawrangler.viewer.v0+json": {
       "columns": [
        {
         "name": "index",
         "rawType": "int64",
         "type": "integer"
        },
        {
         "name": "Text",
         "rawType": "object",
         "type": "unknown"
        },
        {
         "name": "Sentiment(1-7)",
         "rawType": "float64",
         "type": "float"
        }
       ],
       "conversionMethod": "pd.DataFrame",
       "ref": "61d3e026-3bd0-44c2-bcd4-6b15beddcf08",
       "rows": [
        [
         "0",
         "Interesting! How often we say those things to others without really understanding what we are saying. That must have been a powerful experience! Excellent!",
         "6.5"
        ],
        [
         "1",
         "What is \\Algebra as a Math Game\\\" or are you just saying you create games that incorporate algebra.\"",
         "4.0"
        ],
        [
         "2",
         "I like the idea of my kids principal who says \\Smart doesn't mean easy, smart means working hard\\\" and incorporating the idea of making mistakes into working hard.\"",
         "5.5"
        ],
        [
         "3",
         "From their responses, it seems the students really liked the power they felt to be \\free\\\" to solve math in any way they wanted.  They used academic language like decomposing numbers and friendly numbers and were able to explain the meaning.\"",
         "6.0"
        ],
        [
         "4",
         "The boys loved math, because \\there is freedom, you can do anything.\\\" What a great way to see math and numbers! I do not think the students realize that math could be taught differently. They just thought that's what you learn when you are a third grader. You need to know it before going to fourth grade.  _x0007__x0007_This is so inspiring! :)\"",
         "7.0"
        ],
        [
         "5",
         "the pervasive idea that to be good at Math, is somehow, to be an otherwise absent-minded, Geeky Genius who can't relate to \\regular people.\\\"\"",
         "3.0"
        ],
        [
         "6",
         "The Peer Review module is not fully set up yet.  You haven't done anything wrong -- Professor Boaler simply has a bit more work to do before it is fully ready for us to participate._x0007__x0007_You can read what the Tech Support team has to say about it <a href=\\https://class.stanford.edu/courses/Education/EDUC115N/How_to_Learn_Math/discussion/forum/i4x-edx-templates-course-Empty/threads/51e35e8cbf1<phoneRedac><zipRedac><zipRedac><zipRedac><zipRedac>2<zipRedac>\\\">in this discussion</a>.\"",
         "4.0"
        ],
        [
         "7",
         "I would like to start the year off by sharing some of these videos with my students.  Especially about mindset and making mistakes.  I think it is important for them to be aware of their habits and try to shift their way of thinking.",
         "4.5"
        ],
        [
         "8",
         "Great ideas. Asking students to illustrate how mistakes can lead to their learning is normalizing and encouraging to others.",
         "6.5"
        ],
        [
         "9",
         "I think this falls on the teacher.  Someone spoke to this above... because if you have a teacher that is just terrible and doesn't know how to manage a class of mixed ability, you get very bored \\gifted\\\" students.  However, if the teacher knows how to differentiate properly, they can challenge your child, within the same confines of the concept being learned, at a deeper level.  Not just making your child do MORE work... but have your child do DIFFERENT work around the same topic.  Sometimes that can be as easy as asking one question to take it deeper.  _x0007__x0007_The problem I've seen with this, however, is that sometimes those \\\"gifted\\\" students still know in their head that they are getting different work.  They still think that they're smarter than the other kids, so they will tend to call the class boring.  Even though the teacher is definitely challenging the kid.  I've heard kids say, \\\"this class is easy\\\" when I KNOW I have challenged them with difficult questions on a daily basis that they struggle with.  I had a girl tell me my Honors Geometry class (as an 8th grader) was easy.  I laughed... I said, \\\"This class isn't EASY!  You just got an A on a High School Geometry Honors Mid-Term.  That's hard to do!  It's not easy... I watch you work HARD every day!  I see you thinking... I see you struggle... I watch you debate... This is work!   And you work hard!  Just because you got an A, doesn't mean it's easy.\"",
         "5.0"
        ],
        [
         "10",
         "I think that it is a great way to see that students look at things differently.  In the video, it seemed like no two people saw the dot card in the same way.  It's a very open-ended strategy that reduces the pressure of students getting the wrong answer, as well as helps them see that numbers can be broken up in different ways.",
         "5.5"
        ],
        [
         "11",
         "<nameRedac_<anon_screen_name_redacted>>_x0007_You are so right.  I had a second niece last year in class----she hated math because she believed she was supposed to know the math coming in.  We worked on self-confidence and competing only for herself and against herself.  We talked about learning one new thing a day.  We talked about celebrating small victories.  I received a letter this year from her----she isn't having trouble in math; she said she wanted to thank me for believing in her and helping her believe in herself------she had learned that it wasn't all about the math, but what she brought to math and what she was willing put into math.",
         "6.0"
        ],
        [
         "12",
         "Kids get negative messages about math from family and friends.  My mom told me that she couldn't do math, so that was probably why it was hard for me.  My dad, on the other hand, was great at math.  However, when I would ask him a question, he would try to explain it to me the way he worked through problems which was using a slide-rule.  I had never seen a slide-rule before, so was additionally stressed because I could not understand the tool he used!  Most of my friends had difficulty with math, so we would complain to each other about how awful it was.",
         "3.5"
        ],
        [
         "13",
         "I agree,   If we use real world observations, field trips and hands-on group activities that hone critical thinking processes as the early foundation of mathematics the students creativity would be sparked.",
         "4.5"
        ],
        [
         "14",
         "I believe that a terrible problem currently exists in mathematics education because students lack foundational knowledge. This fact, however, is primarily attributed to the teaching methods that are implemented in a majority of today's schools. So many math teachers are required to \\cover the course material\\\" that the true instruction is lost. The joy of student discover is not possible because of the time constrains placed by the school year.\"",
         "3.5"
        ],
        [
         "15",
         "I use these as a warm-up from Investigations Ten Minute Math.  The biggest problem is that ALL of the students want to share their methods, which is a great problem to have!",
         "5.0"
        ],
        [
         "16",
         "The more you try, the more you grow your brain. Right in the middle of the front of my room I have the statement \\If at first you don't succeed, try, try again.' I want to go into my classroom right now and change that to: The more you try, the more you grow your brain! It makes so much sense! Encourage the kids to grow their brains! Back to what Michelle Obama said, \\\"...it's hard work!...\\\"  \\\"Keep working at it, do you feel your brain?\\\"  I know the kids are feeling their brain working, we just need to focus on the positive of hard work. It's ok to feel your brain working and growing - it can be what we call \\\"frustration,\\\" that's when you know your brain is growing!\"",
         "4.0"
        ],
        [
         "17",
         "Math shouldn't be about right vs. wrong. Math can become fun when it is conceptual and you can adapt it to different situations.",
         "4.0"
        ],
        [
         "18",
         "The dot cards seem like a way to get everyone involved while bypassing the \\math anxiety\\\". They visually give the students a way to \\\"break apart\\\" a number without needing that prior number sense. I love this idea.\"",
         "7.0"
        ],
        [
         "19",
         "Usually, kids get these messages from parents, siblings and also from teachers. Some times its not necessarily a negative message but the way the subject is represented or taught does not create interest.",
         "3.5"
        ],
        [
         "20",
         "Kids,  what could you accomplish if you weren't afraid of failing?  Would you climb a mountain?  Play on your favorite professional sports team?  Enter a NASCAR race?  Just think about it._x0007__x0007_Now what if you had that same confidence in school?  What is holding you back?  It's all in your mind - MINDSET._x0007__x0007_Let me tell you about MINDSET.... _x0007__x0007_(posted in response to Session 3, Part 10)",
         "4.5"
        ],
        [
         "21",
         "I like the quote that Shwartz stated \\Being quick is not necessary nor sufficient for intellectual success\\\".\"",
         "4.5"
        ],
        [
         "22",
         "The new fad in our district (as others) is to group and re-group based on who is struggling with what ideas at the time... the assumption being that flexible and non-permanent grouping avoids the negatives of tracking. I'm not convinced, but am unsure. Can someone speak to the notions of RTI that are going around now, and how they fit into this research about the lost opportunities by grouping students by ability (short-term vs. long)?",
         "4.0"
        ],
        [
         "23",
         "As a first grade teacher, I use morning meeting to foster a sense of community and nurture a safe trusting environment where students can take risks. This year, I will share with them that I spent time this summer taking classes and learning. I will explain how I am sure they have heard from teachers \\It's ok to make mistakes\\\" but you know what? I learned this summer that your brain actually grows when you make a mistake! I will continue with more information.\"",
         "5.5"
        ],
        [
         "24",
         "I was impressed by how many different ways people saw these 10 dots.  I think it helps students realize there is not just one way to do a problem",
         "5.5"
        ],
        [
         "25",
         "I was able to represent the first two problems conceptually so that students could understand but I was stuck on the third. Looking at how much they can paint together in one hour is a good way to approach it. I just had the math with no explanation. _x0007_I approached the first one differently just using the slices purchased but quartering each so that would be accessible visually to students, even those who are uncomfortable with fractions._x0007_I want to bring more visuals and manipulatives into my classroom this year so this was a very helpful segment.",
         "6.5"
        ],
        [
         "26",
         "Wow- this was a really cool way not only to get the students talking about math, but to allow them to see different ways of completing a problem. The bonus would be if the students developed an appreciation for each others diversity.",
         "7.0"
        ],
        [
         "27",
         "This year, you may have a different experience than you have had in math class previously.  I am interested in your thinking and your learning.  I WILL give you problems that do not have just one way to be solved.  They WILL be difficult at times.  I expect you to put forth effort to try them, but I do NOT expect that you will get the right answer or even an answer at times.  The class will be about learning what we can from these difficult problems and our mistakes in order to make progress in our learning. I will not tell you a procedure for these problems.  Instead, I will be here to encourage you, ask you lots and lots of questions and learn along with you. None of us knows it all, and none of us will be the end of the year together.  I expect to learn about your thinking and hopefully some math as well. You should expect to learn about math but also about your own thinking. If you are putting forth effort and making progress, that is what will be valued instead of the number of questions right and wrong!",
         "4.0"
        ],
        [
         "28",
         "I can draw and reason out the cubes, but the algebraic notation is far beyond my skill level working alone. I would like to participate in an exercise like this to see if I could contribute. I guess I have been in elementary math too long! I had to watch this video several times, and came away with the onion peeling theory that could be adapted  for my students and my understanding. It was very frustrating. I still do not have it all.",
         "3.5"
        ],
        [
         "29",
         "Although I have great deal of sympathy with the idea of mixed ability teaching, I do feel that before any such system can be introduced, the onerous formal planning, assessment, record-keeping and administrative burdens that most teachers in the UK labour under needs to be reduced first. Mixed ability needs a great time for useful planning, which many teachers do not have.",
         "3.5"
        ],
        [
         "30",
         "I have to say that I think for already-scarred students, it's going to take a whole lot more than lip service to convince them that mistakes are good. They've got lots of math and attitude stuff to unlearn. I don't think the research that says it takes longer to \\unlearn\\\" than to learn -- as in more practice, and more successes -- has been tossed, so I'm simply going to call that idea that we need students making mistakes all the time wrong.   It might work peachily for students accustomed to being right in other stuff... it definitely works for *me.*   I've had to learn from experience, though, that my students do much, much better if they get to practice the stuff they know enough to get past the working-memory-killing anxious part; when they have relaxed, then they can start making the connections.\"",
         "4.5"
        ],
        [
         "31",
         "When I enter my next class next week I will say:_x0007__x0007_\\Everybody can learn math\\\"_x0007__x0007_It will take more effort from the students to persist learning math than to accept that the can learn.\"",
         "4.5"
        ],
        [
         "32",
         "Hello everyone.  I am <nameRedac_<anon_screen_name_redacted>>, and I am a Computer Mathematics teacher at a middle school from West Virginia.  I have 25 years of mathematics teaching experience at the junior high/middle school levels.  My present position consisted of students completing mathematics lessons on the computer using the PLATO learning platform.  Then the county switched to APANGEA.  Last year the APANGEA learning platform changed its name to Think Through Math.  When students return to school in August, they will be using MATHIA from Carnegie.  _x0007__x0007_I really look forward to this class, as I hope to gain some new ideas and learn from the recent research on strategies and techniques on how to get students to learn math.  This is extremely important because I teach in a low socio-economical school and whose student population is not real excited about mathematical learning.",
         "4.0"
        ],
        [
         "33",
         "I am teaching the inclusive sections of alg 2 for the first time this year. A little nervous, but very exciting. Any suggestions?",
         "5.0"
        ],
        [
         "34",
         "One thing the number cards do that I didn't see mentioned in the first few posts below is that they visually reinforce the idea that numbers can be broken up in many different ways. The discussion of the different ways people viewed the dots opens avenues for others to begin to consider how many different decompositions there are, and that these decompositions lead to many different arithmetic computations. Finally, the visual aspect of the exercise leaves a lasting impression almost like a puzzle that people might carry in the back of their minds as a reminder to think about numbers in different and use the relationships of the sub-parts to understand the numbers more deeply.",
         "4.5"
        ],
        [
         "35",
         "I work with students on a one to one basis, so I don't necessarily \\group\\\" my students in any group in particular. But all that said, I see the results of students feeling like they're dumb and stupid when it comes to math. I don't know where they've heard these messages, but I do hope that message in their head changes. I've noticed that if I expect more from students, if they are available, then they will rise to the occasion and work hard. I also find that if I expect too much, they won't even begin the class and refuse to do anything. _x0007__x0007_After viewing these videos I'm now curious about what it'd look like if we did group work, instead of one-to-one teaching. I think it'd be interesting to see my students working together with other students opposed to working things out with me. So maybe my school needs more groups, opposed to eliminated them!\"",
         "5.0"
        ],
        [
         "36",
         "They seemed to talk about friendly numbers- but they didn't get opportunity to finish telling us what friendly numbers were. They seemed to think that what they were doing in the current maths class has improved their skills. Interesting they still seemed to want to \\get out of doing\\\" the maths.\"",
         "3.5"
        ],
        [
         "37",
         "For those with moderate disabilities, I think they can/will have growth and I think they can access math learning.  However, they may not access it the same way. So while they may be able to understand concepts, they may have difficulties with processes.  Or they may have working memory issues.  If their \\disability\\\" can be broken down and specifically identified, then appropriate accommodations/modifications can allow them to access math both from a problem solving point of view and from an aesthetic point of view.  However, if we continue to evaluate them based on whether they can do long division using the \\\"standard\\\" algorithm (or some other process), then we will never give them the opportunity to meet math.\"",
         "5.0"
        ],
        [
         "38",
         "i think it's always interesting and intriguing to see others' thought process in a common subject, so in this dot problem it must have gotten students really engaged in the class... to see who thought the same way, who thought in a different way and what was that different way_x0007_However, i am still concerned that such activity in high school (although i believe is much fun and engaging) would still take a lot of the lesson's 50-55mins and the main content i have to explain in these (50 mins according to the pacing chart), i just won't have enough time to keep finish! (Especially when we are talking about high school curricula and heavy concepts to deliver, you just feel like you need to invest every second to explain as much as possible to explain a brand new concept / idea)",
         "3.5"
        ],
        [
         "39",
         "I went back and it worked this time. Not sure if tech magic happened or not but thank you. _x0007__x0007_It would be great to see which problems have not been completed and result in 0/1 on the progress page. You can see which problems are still waiting to be assessed in the Assessment Panel, but there is still a lot of flicking between tabs to keep tabs as it were on progress. I hope you can add a mouse over for the incomplete problems/tasks that will show us which parts need our attention.",
         "5.0"
        ],
        [
         "40",
         "I would like to create a classroom mentality throughout the year that will encourage students to share their ideas - even though there might be mistakes present - because we learn best from finding out why we are wrong and knowing what to do next time something similar arises. The most interesting discussion often takes place when we disagree or when mistakes are present in our thinking.",
         "4.0"
        ],
        [
         "41",
         "Three links to my thinking. And they work backwards since myipad made me do this three times....so the third link i had initially thought mistakes makes our learning messy and not linear so i initially thought of thr imagine on thr first link. But thrn i loved the saing there as well...take chances, make mistakes, get messy! _x0007__x0007_Then again along the lines of messy and not linear. I thought really our learning is under construction so our mistakes are the construction to our success which is our learning. The first two links are variations of this. _x0007__x0007_.http://www.teachersupplysource.com/product/<zipRedac><zipRedac>737/educators-resource/posters/motivationals/poster-the-road-to-success-is-almost-always-under-construction-<zipRedac>3-<zipRedac>-2-x-<zipRedac><zipRedac>/_x0007__x0007_http://m.demotivation.us/the-road-to-success-<zipRedac>246504.html_x0007__x0007_http://www.hannahrose.ca/20<zipRedac>3/0<zipRedac>/to-thine-own-self-be-true-or-something.html",
         "4.5"
        ],
        [
         "42",
         "I am going to ask, \\How many of you like and enjoy math?\\\" Then to say well, to the ones who don't, you will by the time the school year is over because we are going to have fun with math and learn lots of fun, exciting, and new things. I will also now, after hearing you, say, \\\"I love math (which I do) and that its okay to make mistakes because we are going to use and learn from them.\\\"\"",
         "4.0"
        ],
        [
         "43",
         "Big Ideas_x0007__x0007_Project Based/ Inquiry/ Curiosity (why and how)_x0007_Team Effort/ Research/ Self Confidence/ Persistence/ Creativity/ Ownership_x0007_Conceptual_x0007_Holistic/ Connected_x0007_ _x0007_I will prepare a project-based inquiry into percents where students research practical application of Discount, Markup, Sales Tax, Commission, and Simple Interest. They will make up their own word problems, solve the problems and give reasoning to solutions (how they got it and why it works). Showing more than one method for each solution is a Bonus. Students will work in teams; they will collaborate to produce a piece of work that satisfies the rubric of the project. They will use Technology and present their product to the class Using PowerPoint.  They will be practical by writing problems that connects to everyday life, and creative in their presentations demonstrating skills of the 21st Century skills.",
         "4.5"
        ],
        [
         "44",
         "Yes, I agrees that all learners benefit from this open discussion of the number talks.  As they listen to each others strategies and understand the thinking behind the strategy, it will develop another way of looking at the problem that they didn't think of before.",
         "5.0"
        ],
        [
         "45",
         "Mistakes give our brains something to CHEW on!",
         "4.0"
        ],
        [
         "46",
         "Why focus if you already know you aren't any good at it?",
         "3.0"
        ],
        [
         "47",
         "That got me thinking about how the whole task is different.  \\Tracking\\\" implies that these tasks are these sets of questions to be answered.   With what we're learning about here... no, the tasks are situations to be explored.  If you're a person who \\\"finishes fast,\\\" then there should be ample fodder for you to ponder and explore, instead of checking off a little 'right or wrong' list.\"",
         "4.0"
        ],
        [
         "48",
         "I think you made a wise choice, taking into account the dynamics of the classroom actually.  We know as teachers, that every set of kids we get each year requires us to adapt and modify our teaching to what is most conducive to the learning environment.  Having taught kindergarten, challenging the high group was ALWAYS my biggest challenge because the range of where students are at in their learning process is so very wide in kindergarten.",
         "5.0"
        ],
        [
         "49",
         "I think it helps people see that even the simplest things, like counting have multiple approaches, that are like and unalike in interesting ways.  It helps get away from the idea that math is about one right answer (in this case 10), and moves toward the idea that math is about multiple approaches.  It can help people feel like their contributions are interesting and important.  It could also be a good setting to develop good group discussion norms.  You also get to see how numbers are made up of other numbers, which leads into interesting things later.  (E.g. you can't do 15*12 = 15*10 + 15*2 without knowing that 12 can be broken into 10 and 2.  In this video an interesting thing we saw is that 10 = 4+3+2+1, which is part of a very interesting series (triangle numbers)).",
         "5.5"
        ]
       ],
       "shape": {
        "columns": 2,
        "rows": 29604
       }
      },
      "text/html": [
       "<div>\n",
       "<style scoped>\n",
       "    .dataframe tbody tr th:only-of-type {\n",
       "        vertical-align: middle;\n",
       "    }\n",
       "\n",
       "    .dataframe tbody tr th {\n",
       "        vertical-align: top;\n",
       "    }\n",
       "\n",
       "    .dataframe thead th {\n",
       "        text-align: right;\n",
       "    }\n",
       "</style>\n",
       "<table border=\"1\" class=\"dataframe\">\n",
       "  <thead>\n",
       "    <tr style=\"text-align: right;\">\n",
       "      <th></th>\n",
       "      <th>Text</th>\n",
       "      <th>Sentiment(1-7)</th>\n",
       "    </tr>\n",
       "  </thead>\n",
       "  <tbody>\n",
       "    <tr>\n",
       "      <th>0</th>\n",
       "      <td>Interesting! How often we say those things to ...</td>\n",
       "      <td>6.5</td>\n",
       "    </tr>\n",
       "    <tr>\n",
       "      <th>1</th>\n",
       "      <td>What is \\Algebra as a Math Game\\\" or are you j...</td>\n",
       "      <td>4.0</td>\n",
       "    </tr>\n",
       "    <tr>\n",
       "      <th>2</th>\n",
       "      <td>I like the idea of my kids principal who says ...</td>\n",
       "      <td>5.5</td>\n",
       "    </tr>\n",
       "    <tr>\n",
       "      <th>3</th>\n",
       "      <td>From their responses, it seems the students re...</td>\n",
       "      <td>6.0</td>\n",
       "    </tr>\n",
       "    <tr>\n",
       "      <th>4</th>\n",
       "      <td>The boys loved math, because \\there is freedom...</td>\n",
       "      <td>7.0</td>\n",
       "    </tr>\n",
       "    <tr>\n",
       "      <th>...</th>\n",
       "      <td>...</td>\n",
       "      <td>...</td>\n",
       "    </tr>\n",
       "    <tr>\n",
       "      <th>29599</th>\n",
       "      <td>The p value tells us the probability of observ...</td>\n",
       "      <td>4.0</td>\n",
       "    </tr>\n",
       "    <tr>\n",
       "      <th>29600</th>\n",
       "      <td>given the null hypothesis is considered true</td>\n",
       "      <td>4.0</td>\n",
       "    </tr>\n",
       "    <tr>\n",
       "      <th>29601</th>\n",
       "      <td>&gt; Hello Josh,_x0007__x0007_Is this hypothesis ...</td>\n",
       "      <td>4.0</td>\n",
       "    </tr>\n",
       "    <tr>\n",
       "      <th>29602</th>\n",
       "      <td>Hi Josh,_x0007__x0007__x0007__x0007_Looking at...</td>\n",
       "      <td>3.5</td>\n",
       "    </tr>\n",
       "    <tr>\n",
       "      <th>29603</th>\n",
       "      <td>thanks Dr.Josh</td>\n",
       "      <td>4.0</td>\n",
       "    </tr>\n",
       "  </tbody>\n",
       "</table>\n",
       "<p>29604 rows × 2 columns</p>\n",
       "</div>"
      ],
      "text/plain": [
       "                                                    Text  Sentiment(1-7)\n",
       "0      Interesting! How often we say those things to ...             6.5\n",
       "1      What is \\Algebra as a Math Game\\\" or are you j...             4.0\n",
       "2      I like the idea of my kids principal who says ...             5.5\n",
       "3      From their responses, it seems the students re...             6.0\n",
       "4      The boys loved math, because \\there is freedom...             7.0\n",
       "...                                                  ...             ...\n",
       "29599  The p value tells us the probability of observ...             4.0\n",
       "29600       given the null hypothesis is considered true             4.0\n",
       "29601  > Hello Josh,_x0007__x0007_Is this hypothesis ...             4.0\n",
       "29602  Hi Josh,_x0007__x0007__x0007__x0007_Looking at...             3.5\n",
       "29603                                     thanks Dr.Josh             4.0\n",
       "\n",
       "[29604 rows x 2 columns]"
      ]
     },
     "execution_count": 125,
     "metadata": {},
     "output_type": "execute_result"
    }
   ],
   "source": [
    "df[[\"Text\", \"Sentiment(1-7)\"]]"
   ]
  },
  {
   "cell_type": "markdown",
   "metadata": {},
   "source": [
    "##### **Rotulando dataset completo com GPT**"
   ]
  },
  {
   "cell_type": "code",
   "execution_count": 23,
   "metadata": {},
   "outputs": [],
   "source": [
    "client = AsyncOpenAI(api_key=os.getenv(\"OPENAI_API_KEY\"))\n",
    "\n",
    "async def gpt_label_async(text):\n",
    "    try:\n",
    "        response = await client.chat.completions.create(    \n",
    "            # model=\"gpt-3.5-turbo\",\n",
    "            # model=\"gpt-4o\",\n",
    "            model=\"gpt-4o-mini\",\n",
    "            max_tokens=3,\n",
    "            store=True,\n",
    "            messages=[\n",
    "                {\n",
    "                    \"role\": \"user\",\n",
    "                    \"content\": f\"You are a data scientist who labels texts regarding sentiment with one of the options [1. , 1.5, 2. , 2.5, 3. , 3.5, 4. , 4.5, 5. , 5.5, 6. , 6.5, 7. ], with 1 being very negative sentiment and up to 7 being very positive sentiment. Answer only one number and label the following text: {text}\",\n",
    "                },\n",
    "            ],\n",
    "        )\n",
    "        return response.choices[0].message\n",
    "    except Exception as e:\n",
    "        print(f'Erro ao rotular: {str(e)}')\n",
    "        return 0"
   ]
  },
  {
   "cell_type": "code",
   "execution_count": null,
   "metadata": {},
   "outputs": [],
   "source": [
    "rotulos = df[\"Text\"][0:20].apply(lambda x: asyncio.run(gpt_label_async(x)))\n",
    "rotulos = rotulos.map(lambda x: float(x.content))"
   ]
  },
  {
   "cell_type": "code",
   "execution_count": 117,
   "metadata": {},
   "outputs": [
    {
     "data": {
      "text/plain": [
       "0     5.0\n",
       "1     3.0\n",
       "2     5.0\n",
       "3     6.0\n",
       "4     5.0\n",
       "5     2.0\n",
       "6     3.0\n",
       "7     4.0\n",
       "8     6.0\n",
       "9     4.0\n",
       "10    6.0\n",
       "11    6.0\n",
       "12    2.0\n",
       "13    5.0\n",
       "14    2.0\n",
       "15    5.0\n",
       "16    6.0\n",
       "17    5.0\n",
       "18    6.0\n",
       "19    3.0\n",
       "Name: Text, dtype: float64"
      ]
     },
     "execution_count": 117,
     "metadata": {},
     "output_type": "execute_result"
    }
   ],
   "source": [
    "rotulos"
   ]
  }
 ],
 "metadata": {
  "kernelspec": {
   "display_name": "base",
   "language": "python",
   "name": "python3"
  },
  "language_info": {
   "codemirror_mode": {
    "name": "ipython",
    "version": 3
   },
   "file_extension": ".py",
   "mimetype": "text/x-python",
   "name": "python",
   "nbconvert_exporter": "python",
   "pygments_lexer": "ipython3",
   "version": "3.12.7"
  }
 },
 "nbformat": 4,
 "nbformat_minor": 2
}
